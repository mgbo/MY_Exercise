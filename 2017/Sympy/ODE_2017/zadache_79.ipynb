{
 "cells": [
  {
   "cell_type": "markdown",
   "metadata": {},
   "source": [
    "# Задача (79)"
   ]
  },
  {
   "cell_type": "markdown",
   "metadata": {},
   "source": [
    "Условие задачи:\n",
    "\n",
    "В воздухе комнаты объемом 200 м3 содержится 0,15% углекислого газа (CO2). Вентилятор подает в минуту 20 м3 воздуха, содержащего 0,04% CO2. Через какое время количество углекислого газа в воздухе комнаты уменьшится втрое? "
   ]
  },
  {
   "cell_type": "markdown",
   "metadata": {},
   "source": [
    "Решение задачи,\n",
    "\n",
    "Пусть Q(t) - количество углекислого газа в комнате в момент времени t после начала работы вентилятора,\n",
    "\n",
    "Рассчитаем изменение объема из бесконечно малый промежуток dt"
   ]
  },
  {
   "cell_type": "code",
   "execution_count": 38,
   "metadata": {
    "collapsed": true
   },
   "outputs": [],
   "source": [
    "from sympy import*"
   ]
  },
  {
   "cell_type": "code",
   "execution_count": 39,
   "metadata": {
    "collapsed": true
   },
   "outputs": [],
   "source": [
    "init_printing()"
   ]
  },
  {
   "cell_type": "code",
   "execution_count": 40,
   "metadata": {
    "collapsed": true
   },
   "outputs": [],
   "source": [
    "Q = Function ('Q')"
   ]
  },
  {
   "cell_type": "code",
   "execution_count": 41,
   "metadata": {
    "collapsed": true
   },
   "outputs": [],
   "source": [
    "t,C1= symbols ('t C1')"
   ]
  },
  {
   "cell_type": "code",
   "execution_count": 42,
   "metadata": {},
   "outputs": [
    {
     "data": {
      "image/png": "[encoded data removed]",
      "text/latex": [
       "$$\\frac{1}{10} Q{\\left (t \\right )} + \\frac{d}{d t} Q{\\left (t \\right )} - 0.008$$"
      ],
      "text/plain": [
       "Q(t)   d               \n",
       "──── + ──(Q(t)) - 0.008\n",
       " 10    dt              "
      ]
     },
     "execution_count": 42,
     "metadata": {},
     "output_type": "execute_result"
    }
   ],
   "source": [
    "eq = diff(Q(t),t) - 0.008 + Q(t)/10\n",
    "eq"
   ]
  },
  {
   "cell_type": "code",
   "execution_count": 43,
   "metadata": {},
   "outputs": [
    {
     "data": {
      "image/png": "[encoded data removed]",
      "text/latex": [
       "$$\\frac{1}{10} Q{\\left (t \\right )} + \\frac{d}{d t} Q{\\left (t \\right )} - 0.008 = 0$$"
      ],
      "text/plain": [
       "Q(t)   d                   \n",
       "──── + ──(Q(t)) - 0.008 = 0\n",
       " 10    dt                  "
      ]
     },
     "execution_count": 43,
     "metadata": {},
     "output_type": "execute_result"
    }
   ],
   "source": [
    "ode_eq = Eq(eq)\n",
    "ode_eq"
   ]
  },
  {
   "cell_type": "code",
   "execution_count": 44,
   "metadata": {},
   "outputs": [
    {
     "data": {
      "image/png": "[encoded data removed]",
      "text/latex": [
       "$$Q{\\left (t \\right )} = C_{1} e^{- 0.1 t} + 0.08$$"
      ],
      "text/plain": [
       "           -0.1⋅t       \n",
       "Q(t) = C₁⋅ℯ       + 0.08"
      ]
     },
     "execution_count": 44,
     "metadata": {},
     "output_type": "execute_result"
    }
   ],
   "source": [
    "ode_sol = dsolve(ode_eq)\n",
    "ode_sol"
   ]
  },
  {
   "cell_type": "code",
   "execution_count": 45,
   "metadata": {},
   "outputs": [
    {
     "data": {
      "image/png": "[encoded data removed]",
      "text/latex": [
       "$$\\left \\{ Q{\\left (0 \\right )} : 0.3\\right \\}$$"
      ],
      "text/plain": [
       "{Q(0): 0.3}"
      ]
     },
     "execution_count": 45,
     "metadata": {},
     "output_type": "execute_result"
    }
   ],
   "source": [
    "t_q = {Q(0):0.3}\n",
    "t_q"
   ]
  },
  {
   "cell_type": "code",
   "execution_count": 46,
   "metadata": {},
   "outputs": [
    {
     "data": {
      "image/png": "[encoded data removed]",
      "text/latex": [
       "$$0.3 = C_{1} + 0.08$$"
      ],
      "text/plain": [
       "0.3 = C₁ + 0.08"
      ]
     },
     "execution_count": 46,
     "metadata": {},
     "output_type": "execute_result"
    }
   ],
   "source": [
    "ode_ics = ode_sol.subs(t,0).subs(t_q)\n",
    "ode_ics"
   ]
  },
  {
   "cell_type": "code",
   "execution_count": 47,
   "metadata": {},
   "outputs": [
    {
     "data": {
      "image/png": "[encoded data removed]",
      "text/latex": [
       "$$\\left [ 0.22\\right ]$$"
      ],
      "text/plain": [
       "[0.22]"
      ]
     },
     "execution_count": 47,
     "metadata": {},
     "output_type": "execute_result"
    }
   ],
   "source": [
    "C = solve(ode_ics)\n",
    "C"
   ]
  },
  {
   "cell_type": "code",
   "execution_count": 49,
   "metadata": {},
   "outputs": [
    {
     "data": {
      "image/png": "[encoded data removed]",
      "text/latex": [
       "$$Q{\\left (t \\right )} = 0.08 + 0.22 e^{- 0.1 t}$$"
      ],
      "text/plain": [
       "                    -0.1⋅t\n",
       "Q(t) = 0.08 + 0.22⋅ℯ      "
      ]
     },
     "execution_count": 49,
     "metadata": {},
     "output_type": "execute_result"
    }
   ],
   "source": [
    "ode_sol_f = ode_sol.subs(C1,C[0])\n",
    "ode_sol_f"
   ]
  },
  {
   "cell_type": "markdown",
   "metadata": {},
   "source": [
    "По условию задачи,\n",
    "\n",
    "Через какое время количество углекислого газа в воздухе комнаты уменьшится втрое? \n",
    "t = 0.3 \n",
    "t = 0.1"
   ]
  },
  {
   "cell_type": "code",
   "execution_count": 50,
   "metadata": {},
   "outputs": [
    {
     "data": {
      "image/png": "[encoded data removed]",
      "text/latex": [
       "$$0.08 + 0.22 e^{- 0.1 t} = 0.1$$"
      ],
      "text/plain": [
       "             -0.1⋅t      \n",
       "0.08 + 0.22⋅ℯ       = 0.1"
      ]
     },
     "execution_count": 50,
     "metadata": {},
     "output_type": "execute_result"
    }
   ],
   "source": [
    "final_t = Eq(ode_sol_f.rhs,0.1)\n",
    "final_t"
   ]
  },
  {
   "cell_type": "code",
   "execution_count": 51,
   "metadata": {},
   "outputs": [
    {
     "data": {
      "image/png": "[encoded data removed]",
      "text/latex": [
       "$$-0.02 + 0.22 e^{- 0.1 t}$$"
      ],
      "text/plain": [
       "              -0.1⋅t\n",
       "-0.02 + 0.22⋅ℯ      "
      ]
     },
     "execution_count": 51,
     "metadata": {},
     "output_type": "execute_result"
    }
   ],
   "source": [
    "res_eq = final_t.lhs - 0.1\n",
    "res_eq"
   ]
  },
  {
   "cell_type": "code",
   "execution_count": 52,
   "metadata": {},
   "outputs": [
    {
     "data": {
      "image/png": "[encoded data removed]",
      "text/latex": [
       "$$\\left [ 23.9789527279837\\right ]$$"
      ],
      "text/plain": [
       "[23.9789527279837]"
      ]
     },
     "execution_count": 52,
     "metadata": {},
     "output_type": "execute_result"
    }
   ],
   "source": [
    "res = solve(res_eq,t)\n",
    "res"
   ]
  },
  {
   "cell_type": "code",
   "execution_count": 53,
   "metadata": {
    "collapsed": true
   },
   "outputs": [],
   "source": [
    "from sympy.plotting import plot\n",
    "%matplotlib inline"
   ]
  },
  {
   "cell_type": "code",
   "execution_count": 58,
   "metadata": {},
   "outputs": [
    {
     "data": {
      "image/png": "[encoded data removed]",
      "text/plain": [
       "<matplotlib.figure.Figure at 0x1113de7f0>"
      ]
     },
     "metadata": {},
     "output_type": "display_data"
    },
    {
     "data": {
      "text/plain": [
       "<sympy.plotting.plot.Plot at 0x111410978>"
      ]
     },
     "execution_count": 58,
     "metadata": {},
     "output_type": "execute_result"
    }
   ],
   "source": [
    "plot(ode_sol_f.rhs,(t,0,50))"
   ]
  },
  {
   "cell_type": "code",
   "execution_count": null,
   "metadata": {
    "collapsed": true
   },
   "outputs": [],
   "source": []
  }
 ],
 "metadata": {
  "kernelspec": {
   "display_name": "Python 3",
   "language": "python",
   "name": "python3"
  },
  "language_info": {
   "codemirror_mode": {
    "name": "ipython",
    "version": 3
   },
   "file_extension": ".py",
   "mimetype": "text/x-python",
   "name": "python",
   "nbconvert_exporter": "python",
   "pygments_lexer": "ipython3",
   "version": "3.6.5"
  }
 },
 "nbformat": 4,
 "nbformat_minor": 2
}
