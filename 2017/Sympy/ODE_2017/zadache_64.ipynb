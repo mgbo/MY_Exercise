{
 "cells": [
  {
   "cell_type": "markdown",
   "metadata": {},
   "source": [
    "# Задача(64)"
   ]
  },
  {
   "cell_type": "code",
   "execution_count": 1,
   "metadata": {
    "collapsed": true
   },
   "outputs": [],
   "source": [
    "from sympy import*\n",
    "init_printing()"
   ]
  },
  {
   "cell_type": "code",
   "execution_count": 2,
   "metadata": {
    "collapsed": true
   },
   "outputs": [],
   "source": [
    "x = symbols ('x')\n",
    "y = Function ('y')"
   ]
  },
  {
   "cell_type": "code",
   "execution_count": 4,
   "metadata": {
    "collapsed": false
   },
   "outputs": [
    {
     "data": {
      "image/png": "[encoded data removed]",
      "text/latex": [
       "$$\\left(x + 2 y{\\left (x \\right )}\\right) \\frac{d}{d x} y{\\left (x \\right )} - 1$$"
      ],
      "text/plain": [
       "             d           \n",
       "(x + 2⋅y(x))⋅──(y(x)) - 1\n",
       "             dx          "
      ]
     },
     "execution_count": 4,
     "metadata": {},
     "output_type": "execute_result"
    }
   ],
   "source": [
    "exp = (x + 2*y(x))*diff(y(x),x) - 1\n",
    "exp"
   ]
  },
  {
   "cell_type": "code",
   "execution_count": 6,
   "metadata": {
    "collapsed": false
   },
   "outputs": [
    {
     "data": {
      "image/png": "[encoded data removed]",
      "text/latex": [
       "$$\\left(x + 2 y{\\left (x \\right )}\\right) \\frac{d}{d x} y{\\left (x \\right )} - 1 = 0$$"
      ],
      "text/plain": [
       "             d               \n",
       "(x + 2⋅y(x))⋅──(y(x)) - 1 = 0\n",
       "             dx              "
      ]
     },
     "execution_count": 6,
     "metadata": {},
     "output_type": "execute_result"
    }
   ],
   "source": [
    "eq = Eq(exp,0)\n",
    "eq"
   ]
  },
  {
   "cell_type": "code",
   "execution_count": 7,
   "metadata": {
    "collapsed": false
   },
   "outputs": [
    {
     "data": {
      "image/png": "[encoded data removed]",
      "text/latex": [
       "$$y{\\left (x \\right )} = C_{1} + C_{1} x - \\frac{C_{1} x^{2}}{4} + \\frac{5 C_{1}}{48} x^{3} + \\frac{C_{1} x^{4}}{384} + \\frac{C_{1}^{2} x^{5}}{3840} \\left(C_{1} + 1\\right) + \\mathcal{O}\\left(x^{6}\\right)$$"
      ],
      "text/plain": [
       "                       2         3       4     2  5                 \n",
       "                   C₁⋅x    5⋅C₁⋅x    C₁⋅x    C₁ ⋅x ⋅(C₁ + 1)    ⎛ 6⎞\n",
       "y(x) = C₁ + C₁⋅x - ───── + ─────── + ───── + ─────────────── + O⎝x ⎠\n",
       "                     4        48      384          3840             "
      ]
     },
     "execution_count": 7,
     "metadata": {},
     "output_type": "execute_result"
    }
   ],
   "source": [
    "sol = dsolve(eq)\n",
    "sol"
   ]
  },
  {
   "cell_type": "code",
   "execution_count": null,
   "metadata": {
    "collapsed": true
   },
   "outputs": [],
   "source": []
  }
 ],
 "metadata": {
  "kernelspec": {
   "display_name": "Python 3",
   "language": "python",
   "name": "python3"
  },
  "language_info": {
   "codemirror_mode": {
    "name": "ipython",
    "version": 3
   },
   "file_extension": ".py",
   "mimetype": "text/x-python",
   "name": "python",
   "nbconvert_exporter": "python",
   "pygments_lexer": "ipython3",
   "version": "3.6.0"
  }
 },
 "nbformat": 4,
 "nbformat_minor": 2
}
