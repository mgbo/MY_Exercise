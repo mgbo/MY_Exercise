{
 "cells": [
  {
   "cell_type": "markdown",
   "metadata": {},
   "source": [
    "# Задача (77)"
   ]
  },
  {
   "cell_type": "markdown",
   "metadata": {},
   "source": [
    "Сосуд объемом в 20 л содержит воздух (80% азота и 20% кислорода). В сосуд втекает 0,1 л азота в секунду, который непрерывно перемешивается, и вытекает такое же количество смеси. Через сколько времени в сосуде будет 99% азота? "
   ]
  },
  {
   "cell_type": "markdown",
   "metadata": {},
   "source": [
    "Пусть Q(t) - количество литров азота в сосуде в момент времени t после начала перемешивания\n",
    "тогда в 0.1 dt  литрах смеси содержится $\\frac{0,1Qdt}{20}$ литров азота\n",
    "согласно условию задачи, в сосуд за время dt поступит 0,1dt л азота , а вытечет $\\frac{0.1Qdt}{20}$ л\n",
    "Следовательно количество dQ  азота, которое втекает в сосуд за время dt и остается в нем, равно $0,1 (1-\\frac{0.1Q}{20})dt$\n"
   ]
  },
  {
   "cell_type": "code",
   "execution_count": 25,
   "metadata": {},
   "outputs": [],
   "source": [
    "from sympy import*"
   ]
  },
  {
   "cell_type": "code",
   "execution_count": 26,
   "metadata": {},
   "outputs": [],
   "source": [
    "init_printing()"
   ]
  },
  {
   "cell_type": "code",
   "execution_count": 27,
   "metadata": {},
   "outputs": [],
   "source": [
    "Q = Function ('Q')\n",
    "t,C1 = symbols('t C1')"
   ]
  },
  {
   "cell_type": "markdown",
   "metadata": {},
   "source": [
    "Общее уравнение,\n",
    "$$\\frac{dQ}{dt}=0.1(\\frac{1-Q(t)}{20})$$\n"
   ]
  },
  {
   "cell_type": "code",
   "execution_count": 28,
   "metadata": {},
   "outputs": [
    {
     "data": {
      "image/png": "[encoded data removed]",
      "text/latex": [
       "$$\\frac{1}{20} Q{\\left (t \\right )} + 10.0 \\frac{d}{d t} Q{\\left (t \\right )} - 1$$"
      ],
      "text/plain": [
       "Q(t)        d           \n",
       "──── + 10.0⋅──(Q(t)) - 1\n",
       " 20         dt          "
      ]
     },
     "execution_count": 28,
     "metadata": {},
     "output_type": "execute_result"
    }
   ],
   "source": [
    "eq = (diff(Q(t),t)/0.1)-(1-(Q(t)/20))\n",
    "eq"
   ]
  },
  {
   "cell_type": "code",
   "execution_count": 29,
   "metadata": {},
   "outputs": [
    {
     "data": {
      "image/png": "[encoded data removed]",
      "text/latex": [
       "$$\\frac{1}{20} Q{\\left (t \\right )} + 10.0 \\frac{d}{d t} Q{\\left (t \\right )} - 1 = 0$$"
      ],
      "text/plain": [
       "Q(t)        d               \n",
       "──── + 10.0⋅──(Q(t)) - 1 = 0\n",
       " 20         dt              "
      ]
     },
     "execution_count": 29,
     "metadata": {},
     "output_type": "execute_result"
    }
   ],
   "source": [
    "ode_eq = Eq(eq)\n",
    "ode_eq"
   ]
  },
  {
   "cell_type": "code",
   "execution_count": 30,
   "metadata": {},
   "outputs": [
    {
     "data": {
      "image/png": "[encoded data removed]",
      "text/latex": [
       "$$Q{\\left (t \\right )} = C_{1} e^{- 0.005 t} + 20.0$$"
      ],
      "text/plain": [
       "           -0.005⋅t       \n",
       "Q(t) = C₁⋅ℯ         + 20.0"
      ]
     },
     "execution_count": 30,
     "metadata": {},
     "output_type": "execute_result"
    }
   ],
   "source": [
    "ode_sol = dsolve(ode_eq)\n",
    "ode_sol"
   ]
  },
  {
   "cell_type": "code",
   "execution_count": 31,
   "metadata": {},
   "outputs": [
    {
     "data": {
      "image/png": "[encoded data removed]",
      "text/latex": [
       "$$C_{1} + 20.0$$"
      ],
      "text/plain": [
       "C₁ + 20.0"
      ]
     },
     "execution_count": 31,
     "metadata": {},
     "output_type": "execute_result"
    }
   ],
   "source": [
    "ode_C1 = ode_sol.rhs.subs(t,0)\n",
    "ode_C1"
   ]
  },
  {
   "cell_type": "code",
   "execution_count": 32,
   "metadata": {},
   "outputs": [
    {
     "data": {
      "image/png": "[encoded data removed]",
      "text/latex": [
       "$$\\left \\{ Q{\\left (0 \\right )} : 16\\right \\}$$"
      ],
      "text/plain": [
       "{Q(0): 16}"
      ]
     },
     "execution_count": 32,
     "metadata": {},
     "output_type": "execute_result"
    }
   ],
   "source": [
    "ode_ics = {Q(0):16}\n",
    "ode_ics"
   ]
  },
  {
   "cell_type": "code",
   "execution_count": 33,
   "metadata": {},
   "outputs": [
    {
     "data": {
      "image/png": "[encoded data removed]",
      "text/latex": [
       "$$16$$"
      ],
      "text/plain": [
       "16"
      ]
     },
     "execution_count": 33,
     "metadata": {},
     "output_type": "execute_result"
    }
   ],
   "source": [
    "ode_f_C= ode_sol.lhs.subs(t,0).subs(ode_ics)\n",
    "ode_f_C"
   ]
  },
  {
   "cell_type": "code",
   "execution_count": 34,
   "metadata": {},
   "outputs": [
    {
     "data": {
      "image/png": "[encoded data removed]",
      "text/latex": [
       "$$16 = C_{1} + 20.0$$"
      ],
      "text/plain": [
       "16 = C₁ + 20.0"
      ]
     },
     "execution_count": 34,
     "metadata": {},
     "output_type": "execute_result"
    }
   ],
   "source": [
    "ode_re_eq = Eq(ode_f_C,ode_C1)\n",
    "ode_re_eq"
   ]
  },
  {
   "cell_type": "code",
   "execution_count": 35,
   "metadata": {},
   "outputs": [
    {
     "data": {
      "image/png": "[encoded data removed]",
      "text/latex": [
       "$$\\left [ -4.0\\right ]$$"
      ],
      "text/plain": [
       "[-4.0]"
      ]
     },
     "execution_count": 35,
     "metadata": {},
     "output_type": "execute_result"
    }
   ],
   "source": [
    "C_sol = solve(ode_re_eq)\n",
    "C_sol"
   ]
  },
  {
   "cell_type": "code",
   "execution_count": 36,
   "metadata": {},
   "outputs": [
    {
     "data": {
      "image/png": "[encoded data removed]",
      "text/latex": [
       "$$Q{\\left (t \\right )} = 20.0 - 4.0 e^{- 0.005 t}$$"
      ],
      "text/plain": [
       "                   -0.005⋅t\n",
       "Q(t) = 20.0 - 4.0⋅ℯ        "
      ]
     },
     "execution_count": 36,
     "metadata": {},
     "output_type": "execute_result"
    }
   ],
   "source": [
    "ode_re = ode_sol.subs({C1:C_sol[0]})\n",
    "ode_re"
   ]
  },
  {
   "cell_type": "markdown",
   "metadata": {},
   "source": [
    "По условию задачи,\n",
    "20 -- 100%\n",
    "?   -- 99%"
   ]
  },
  {
   "cell_type": "code",
   "execution_count": 37,
   "metadata": {},
   "outputs": [],
   "source": [
    "Q_uslo = symbols('Q_uslo')"
   ]
  },
  {
   "cell_type": "code",
   "execution_count": 38,
   "metadata": {},
   "outputs": [
    {
     "data": {
      "image/png": "[encoded data removed]",
      "text/latex": [
       "$$19.8$$"
      ],
      "text/plain": [
       "19.8"
      ]
     },
     "execution_count": 38,
     "metadata": {},
     "output_type": "execute_result"
    }
   ],
   "source": [
    "Q_uslo = (99*20)/100\n",
    "Q_uslo"
   ]
  },
  {
   "cell_type": "code",
   "execution_count": 39,
   "metadata": {},
   "outputs": [
    {
     "data": {
      "image/png": "[encoded data removed]",
      "text/latex": [
       "$$\\left \\{ Q{\\left (t \\right )} : 19.8\\right \\}$$"
      ],
      "text/plain": [
       "{Q(t): 19.8}"
      ]
     },
     "execution_count": 39,
     "metadata": {},
     "output_type": "execute_result"
    }
   ],
   "source": [
    "uslo = {Q(t):Q_uslo}\n",
    "uslo"
   ]
  },
  {
   "cell_type": "code",
   "execution_count": 40,
   "metadata": {},
   "outputs": [
    {
     "data": {
      "image/png": "[encoded data removed]",
      "text/latex": [
       "$$19.8 = 20.0 - 4.0 e^{- 0.005 t}$$"
      ],
      "text/plain": [
       "                   -0.005⋅t\n",
       "19.8 = 20.0 - 4.0⋅ℯ        "
      ]
     },
     "execution_count": 40,
     "metadata": {},
     "output_type": "execute_result"
    }
   ],
   "source": [
    "fin_eq = Eq(Q_uslo,ode_re.rhs)\n",
    "fin_eq"
   ]
  },
  {
   "cell_type": "code",
   "execution_count": 41,
   "metadata": {},
   "outputs": [],
   "source": [
    "from sympy.plotting import plot     # чтобы работало в notebook, если хотим отдельным окном, %matplotlib qt\n",
    "\n",
    "%matplotlib inline                     "
   ]
  },
  {
   "cell_type": "code",
   "execution_count": 47,
   "metadata": {},
   "outputs": [
    {
     "data": {
      "image/png": "[encoded data removed]",
      "text/plain": [
       "<Figure size 432x288 with 1 Axes>"
      ]
     },
     "metadata": {},
     "output_type": "display_data"
    },
    {
     "data": {
      "text/plain": [
       "<sympy.plotting.plot.Plot at 0x1129509e8>"
      ]
     },
     "execution_count": 47,
     "metadata": {},
     "output_type": "execute_result"
    }
   ],
   "source": [
    "plot(ode_re.rhs,(t,0,700))"
   ]
  },
  {
   "cell_type": "code",
   "execution_count": 49,
   "metadata": {},
   "outputs": [
    {
     "data": {
      "image/png": "[encoded data removed]",
      "text/latex": [
       "$$19.8 = 20.0 - 4.0 e^{- 0.005 t}$$"
      ],
      "text/plain": [
       "                   -0.005⋅t\n",
       "19.8 = 20.0 - 4.0⋅ℯ        "
      ]
     },
     "execution_count": 49,
     "metadata": {},
     "output_type": "execute_result"
    }
   ],
   "source": [
    "fin_eq"
   ]
  },
  {
   "cell_type": "code",
   "execution_count": 55,
   "metadata": {},
   "outputs": [
    {
     "data": {
      "image/png": "[encoded data removed]",
      "text/latex": [
       "$$9.98577424517997$$"
      ],
      "text/plain": [
       "9.98577424517997"
      ]
     },
     "execution_count": 55,
     "metadata": {},
     "output_type": "execute_result"
    }
   ],
   "source": [
    "time = solve(fin_eq, t)\n",
    "time[0]/60"
   ]
  },
  {
   "cell_type": "code",
   "execution_count": null,
   "metadata": {},
   "outputs": [],
   "source": []
  }
 ],
 "metadata": {
  "kernelspec": {
   "display_name": "Python 3",
   "language": "python",
   "name": "python3"
  },
  "language_info": {
   "codemirror_mode": {
    "name": "ipython",
    "version": 3
   },
   "file_extension": ".py",
   "mimetype": "text/x-python",
   "name": "python",
   "nbconvert_exporter": "python",
   "pygments_lexer": "ipython3",
   "version": "3.6.5"
  }
 },
 "nbformat": 4,
 "nbformat_minor": 2
}
