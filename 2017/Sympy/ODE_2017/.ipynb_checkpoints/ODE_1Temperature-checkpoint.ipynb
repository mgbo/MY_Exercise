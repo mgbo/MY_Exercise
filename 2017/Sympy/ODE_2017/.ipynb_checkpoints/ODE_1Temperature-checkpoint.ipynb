{
 "cells": [
  {
   "cell_type": "code",
   "execution_count": 29,
   "metadata": {
    "collapsed": true
   },
   "outputs": [],
   "source": [
    "from sympy import *"
   ]
  },
  {
   "cell_type": "code",
   "execution_count": 5,
   "metadata": {
    "collapsed": false
   },
   "outputs": [],
   "source": [
    "init_printing()"
   ]
  },
  {
   "cell_type": "markdown",
   "metadata": {},
   "source": [
    "Рассмотрим уравнение охлаждения тела от температуры $Т_0$ при температуре окружающей среды (атмосферы) $Т_a$\n",
    "Скорость изменения температуры тела пропорционально разности температуры тела и окружающей среды (закон Ньютона)\n",
    "$$\\frac{dT(t)}{dt} = -k(T(t)-T_a)$$"
   ]
  },
  {
   "cell_type": "code",
   "execution_count": 6,
   "metadata": {
    "collapsed": false
   },
   "outputs": [],
   "source": [
    "t, k, T0, Ta = symbols(\"t, k, T_0, T_a\")   # обозначения T_0 как в LaTex"
   ]
  },
  {
   "cell_type": "code",
   "execution_count": 7,
   "metadata": {
    "collapsed": false
   },
   "outputs": [
    {
     "data": {
      "text/plain": [
       "T"
      ]
     },
     "execution_count": 7,
     "metadata": {},
     "output_type": "execute_result"
    }
   ],
   "source": [
    "T = Function(\"T\")     # T - просто функция, пока ничему не равна\n",
    "T"
   ]
  },
  {
   "cell_type": "markdown",
   "metadata": {},
   "source": [
    "Запишем уравнение в виде f(t) = 0 и будем его решать.\n",
    "$$\\frac{dT(t)}{dt} + k(T(t)-T_a) = 0$$ "
   ]
  },
  {
   "cell_type": "code",
   "execution_count": 8,
   "metadata": {
    "collapsed": false
   },
   "outputs": [
    {
     "data": {
      "image/png": "[encoded data removed]",
      "text/latex": [
       "$$\\frac{d}{d t} T{\\left (t \\right )}$$"
      ],
      "text/plain": [
       "d       \n",
       "──(T(t))\n",
       "dt      "
      ]
     },
     "execution_count": 8,
     "metadata": {},
     "output_type": "execute_result"
    }
   ],
   "source": [
    "T(t).diff()    # это символьное обозначение первой производной. Если функция от t, то и производная будет по t."
   ]
  },
  {
   "cell_type": "code",
   "execution_count": 9,
   "metadata": {
    "collapsed": false
   },
   "outputs": [
    {
     "data": {
      "image/png": "[encoded data removed]",
      "text/latex": [
       "$$k \\left(- T_{a} + T{\\left (t \\right )}\\right) + \\frac{d}{d t} T{\\left (t \\right )}$$"
      ],
      "text/plain": [
       "                 d       \n",
       "k⋅(-Tₐ + T(t)) + ──(T(t))\n",
       "                 dt      "
      ]
     },
     "execution_count": 9,
     "metadata": {},
     "output_type": "execute_result"
    }
   ],
   "source": [
    "ode = T(t).diff(t) + k*(T(t)-Ta)    # правая часть уравнения f(t) = 0\n",
    "ode"
   ]
  },
  {
   "cell_type": "code",
   "execution_count": 10,
   "metadata": {
    "collapsed": false
   },
   "outputs": [
    {
     "data": {
      "image/png": "[encoded data removed]",
      "text/latex": [
       "$$k \\left(- T_{a} + T{\\left (t \\right )}\\right) + \\frac{d}{d t} T{\\left (t \\right )} = 0$$"
      ],
      "text/plain": [
       "                 d           \n",
       "k⋅(-Tₐ + T(t)) + ──(T(t)) = 0\n",
       "                 dt          "
      ]
     },
     "execution_count": 10,
     "metadata": {},
     "output_type": "execute_result"
    }
   ],
   "source": [
    "eq = Eq(ode)                        # само уравнение f(t) = 0, его будем решать\n",
    "eq"
   ]
  },
  {
   "cell_type": "markdown",
   "metadata": {},
   "source": [
    "sympy.dsolve(уравнение) возвращает решение уравнения в виде уравнения T(t) = ..."
   ]
  },
  {
   "cell_type": "code",
   "execution_count": 11,
   "metadata": {
    "collapsed": false
   },
   "outputs": [
    {
     "data": {
      "image/png": "[encoded data removed]",
      "text/latex": [
       "$$T{\\left (t \\right )} = C_{1} e^{- k t} + T_{a}$$"
      ],
      "text/plain": [
       "           -k⋅t     \n",
       "T(t) = C₁⋅ℯ     + Tₐ"
      ]
     },
     "execution_count": 11,
     "metadata": {},
     "output_type": "execute_result"
    }
   ],
   "source": [
    "ode_sol = dsolve(eq)\n",
    "ode_sol                            # получили еще одно уравнение, С1 - неизвестно (будем находить потом из граничных условий)"
   ]
  },
  {
   "cell_type": "markdown",
   "metadata": {},
   "source": [
    "lhs - left-hand side, rhs - right-hand side - левая и правая части уравнений. Это не функции, () не нужно."
   ]
  },
  {
   "cell_type": "code",
   "execution_count": 12,
   "metadata": {
    "collapsed": false
   },
   "outputs": [
    {
     "data": {
      "image/png": "[encoded data removed]",
      "text/latex": [
       "$$T{\\left (t \\right )}$$"
      ],
      "text/plain": [
       "T(t)"
      ]
     },
     "execution_count": 12,
     "metadata": {},
     "output_type": "execute_result"
    }
   ],
   "source": [
    "ode_sol.lhs"
   ]
  },
  {
   "cell_type": "code",
   "execution_count": 13,
   "metadata": {
    "collapsed": false
   },
   "outputs": [
    {
     "data": {
      "image/png": "[encoded data removed]",
      "text/latex": [
       "$$C_{1} e^{- k t} + T_{a}$$"
      ],
      "text/plain": [
       "    -k⋅t     \n",
       "C₁⋅ℯ     + Tₐ"
      ]
     },
     "execution_count": 13,
     "metadata": {},
     "output_type": "execute_result"
    }
   ],
   "source": [
    "ode_sol.rhs"
   ]
  },
  {
   "cell_type": "markdown",
   "metadata": {},
   "source": [
    "Сначала (при t=0) температура была $T_0$. Запишем это начальное условие, подставив (subs) в левую и правую части t=0 и начальное условие $T(0) = T_0$"
   ]
  },
  {
   "cell_type": "code",
   "execution_count": 14,
   "metadata": {
    "collapsed": false
   },
   "outputs": [
    {
     "data": {
      "image/png": "[encoded data removed]",
      "text/latex": [
       "$$\\left \\{ T{\\left (0 \\right )} : T_{0}\\right \\}$$"
      ],
      "text/plain": [
       "{T(0): T₀}"
      ]
     },
     "execution_count": 14,
     "metadata": {},
     "output_type": "execute_result"
    }
   ],
   "source": [
    "ics = {T(0):T0}                # начальное условие (initial condition) T(0)=T0\n",
    "ics"
   ]
  },
  {
   "cell_type": "code",
   "execution_count": 15,
   "metadata": {
    "collapsed": false
   },
   "outputs": [
    {
     "data": {
      "image/png": "[encoded data removed]",
      "text/latex": [
       "$$T_{0}$$"
      ],
      "text/plain": [
       "T₀"
      ]
     },
     "execution_count": 15,
     "metadata": {},
     "output_type": "execute_result"
    }
   ],
   "source": [
    "lhs0 = ode_sol.lhs.subs(t,0).subs(ics)   # подставим t=0 и начальные условия T(0)=T0 в левую часть \n",
    "lhs0"
   ]
  },
  {
   "cell_type": "code",
   "execution_count": 16,
   "metadata": {
    "collapsed": false
   },
   "outputs": [
    {
     "data": {
      "image/png": "[encoded data removed]",
      "text/latex": [
       "$$C_{1} + T_{a}$$"
      ],
      "text/plain": [
       "C₁ + Tₐ"
      ]
     },
     "execution_count": 16,
     "metadata": {},
     "output_type": "execute_result"
    }
   ],
   "source": [
    "rhs0 = ode_sol.rhs.subs(t,0)            # подставим t=0 в правую часть, T(0)=T0 не подставляем, потому что в правой части T(t) нет\n",
    "rhs0"
   ]
  },
  {
   "cell_type": "markdown",
   "metadata": {},
   "source": [
    "Решим уравнение для начальных условий lhs0 = rhs0 относительно C1"
   ]
  },
  {
   "cell_type": "code",
   "execution_count": 17,
   "metadata": {
    "collapsed": false
   },
   "outputs": [
    {
     "data": {
      "image/png": "[encoded data removed]",
      "text/latex": [
       "$$T_{0} = C_{1} + T_{a}$$"
      ],
      "text/plain": [
       "T₀ = C₁ + Tₐ"
      ]
     },
     "execution_count": 17,
     "metadata": {},
     "output_type": "execute_result"
    }
   ],
   "source": [
    "C_eq = Eq(lhs0, rhs0)\n",
    "C_eq"
   ]
  },
  {
   "cell_type": "code",
   "execution_count": 18,
   "metadata": {
    "collapsed": false
   },
   "outputs": [
    {
     "data": {
      "image/png": "[encoded data removed]",
      "text/latex": [
       "$$\\left [ \\left \\{ C_{1} : T_{0} - T_{a}\\right \\}\\right ]$$"
      ],
      "text/plain": [
       "[{C₁: T₀ - Tₐ}]"
      ]
     },
     "execution_count": 18,
     "metadata": {},
     "output_type": "execute_result"
    }
   ],
   "source": [
    "C_sol = solve(C_eq)                     # решаем НЕ дифференциальное уравнение, поэтому solve, а не dsolve\n",
    "C_sol"
   ]
  },
  {
   "cell_type": "markdown",
   "metadata": {},
   "source": [
    "Получили список. В списке 1 решение (словарь, dict) - подстановка."
   ]
  },
  {
   "cell_type": "code",
   "execution_count": 19,
   "metadata": {
    "collapsed": false
   },
   "outputs": [
    {
     "data": {
      "image/png": "[encoded data removed]",
      "text/latex": [
       "$$\\left \\{ C_{1} : T_{0} - T_{a}\\right \\}$$"
      ],
      "text/plain": [
       "{C₁: T₀ - Tₐ}"
      ]
     },
     "execution_count": 19,
     "metadata": {},
     "output_type": "execute_result"
    }
   ],
   "source": [
    "C_sol[0]                               # это подстановка вместо C1 выражения T0-Ta"
   ]
  },
  {
   "cell_type": "code",
   "execution_count": 20,
   "metadata": {
    "collapsed": false
   },
   "outputs": [
    {
     "data": {
      "image/png": "[encoded data removed]",
      "text/latex": [
       "$$T{\\left (t \\right )} = T_{a} + \\left(T_{0} - T_{a}\\right) e^{- k t}$$"
      ],
      "text/plain": [
       "                       -k⋅t\n",
       "T(t) = Tₐ + (T₀ - Tₐ)⋅ℯ    "
      ]
     },
     "execution_count": 20,
     "metadata": {},
     "output_type": "execute_result"
    }
   ],
   "source": [
    "res = ode_sol.subs(C_sol[0])                 # подставим эту подстановку в полученное решение ОДУ\n",
    "res"
   ]
  },
  {
   "cell_type": "markdown",
   "metadata": {},
   "source": [
    "Нарисуем график этой функции, чтобы посмотреть ее поведение."
   ]
  },
  {
   "cell_type": "code",
   "execution_count": 21,
   "metadata": {
    "collapsed": false
   },
   "outputs": [],
   "source": [
    "from sympy.plotting import plot     # чтобы работало в notebook, если хотим отдельным окном, %matplotlib qt\n",
    "\n",
    "%matplotlib inline                     "
   ]
  },
  {
   "cell_type": "code",
   "execution_count": 22,
   "metadata": {
    "collapsed": false
   },
   "outputs": [
    {
     "data": {
      "image/png": "[encoded data removed]",
      "text/latex": [
       "$$T_{a} + \\left(T_{0} - T_{a}\\right) e^{- k t}$$"
      ],
      "text/plain": [
       "                -k⋅t\n",
       "Tₐ + (T₀ - Tₐ)⋅ℯ    "
      ]
     },
     "execution_count": 22,
     "metadata": {},
     "output_type": "execute_result"
    }
   ],
   "source": [
    "expr = res.rhs\n",
    "expr"
   ]
  },
  {
   "cell_type": "markdown",
   "metadata": {
    "collapsed": true
   },
   "source": [
    "Нариуем график функции при Т0=100, k=2, Ta=20 "
   ]
  },
  {
   "cell_type": "code",
   "execution_count": 27,
   "metadata": {
    "collapsed": false,
    "scrolled": true
   },
   "outputs": [
    {
     "data": {
      "image/png": "[encoded data removed]",
      "text/latex": [
       "$$T{\\left (t \\right )} = 20 + 80 e^{- t}$$"
      ],
      "text/plain": [
       "                -t\n",
       "T(t) = 20 + 80⋅ℯ  "
      ]
     },
     "execution_count": 27,
     "metadata": {},
     "output_type": "execute_result"
    }
   ],
   "source": [
    "resn = res.subs({k:1, T0:100, Ta:20})   # эту функцию можно нарисовать\n",
    "resn"
   ]
  },
  {
   "cell_type": "code",
   "execution_count": 25,
   "metadata": {
    "collapsed": false
   },
   "outputs": [
    {
     "data": {
      "image/png": "[encoded data removed]",
      "text/plain": [
       "<matplotlib.figure.Figure at 0x1163ab6a0>"
      ]
     },
     "metadata": {},
     "output_type": "display_data"
    },
    {
     "data": {
      "text/plain": [
       "<sympy.plotting.plot.Plot at 0x1163ab630>"
      ]
     },
     "execution_count": 25,
     "metadata": {},
     "output_type": "execute_result"
    }
   ],
   "source": [
    "plot(resn.rhs, (t, 0, 10))"
   ]
  },
  {
   "cell_type": "code",
   "execution_count": 38,
   "metadata": {
    "collapsed": false
   },
   "outputs": [
    {
     "data": {
      "image/png": "[encoded data removed]",
      "text/latex": [
       "$$T{\\left (t \\right )} = 20 + 80 e^{- t}$$"
      ],
      "text/plain": [
       "                -t\n",
       "T(t) = 20 + 80⋅ℯ  "
      ]
     },
     "execution_count": 38,
     "metadata": {},
     "output_type": "execute_result"
    }
   ],
   "source": [
    "resn.subs({t:2})\n",
    "resn"
   ]
  },
  {
   "cell_type": "code",
   "execution_count": 39,
   "metadata": {
    "collapsed": false
   },
   "outputs": [
    {
     "data": {
      "image/png": "[encoded data removed]",
      "text/latex": [
       "$$\\frac{80}{e^{2}} + 20$$"
      ],
      "text/plain": [
       "    -2     \n",
       "80⋅ℯ   + 20"
      ]
     },
     "execution_count": 39,
     "metadata": {},
     "output_type": "execute_result"
    }
   ],
   "source": [
    "resn.rhs.subs({t:2})"
   ]
  },
  {
   "cell_type": "code",
   "execution_count": 40,
   "metadata": {
    "collapsed": false
   },
   "outputs": [
    {
     "data": {
      "image/png": "[encoded data removed]",
      "text/latex": [
       "$$30.826822658929$$"
      ],
      "text/plain": [
       "30.8268226589290"
      ]
     },
     "execution_count": 40,
     "metadata": {},
     "output_type": "execute_result"
    }
   ],
   "source": [
    "resn.rhs.subs({t:2}).n()"
   ]
  },
  {
   "cell_type": "code",
   "execution_count": null,
   "metadata": {
    "collapsed": true
   },
   "outputs": [],
   "source": []
  }
 ],
 "metadata": {
  "kernelspec": {
   "display_name": "Python 3",
   "language": "python",
   "name": "python3"
  },
  "language_info": {
   "codemirror_mode": {
    "name": "ipython",
    "version": 3
   },
   "file_extension": ".py",
   "mimetype": "text/x-python",
   "name": "python",
   "nbconvert_exporter": "python",
   "pygments_lexer": "ipython3",
   "version": "3.6.0"
  }
 },
 "nbformat": 4,
 "nbformat_minor": 1
}
