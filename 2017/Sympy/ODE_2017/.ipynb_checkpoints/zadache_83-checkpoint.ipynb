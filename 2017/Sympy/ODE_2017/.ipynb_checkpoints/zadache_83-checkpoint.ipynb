{
 "cells": [
  {
   "cell_type": "markdown",
   "metadata": {},
   "source": [
    "# задача(83)"
   ]
  },
  {
   "cell_type": "markdown",
   "metadata": {},
   "source": [
    "Условие задачи:\n",
    "Лодка замедляет свое движение под действием сопротивления воды, которое пропорционально скорости лодки. Начальная скорость лодки 1,5 м/сек, через 4 сек скорость ее 1 м/сек. Когда скорость уменьшится до 1 см/сек? Какой путь может пройти лодка до остановки? "
   ]
  },
  {
   "cell_type": "markdown",
   "metadata": {},
   "source": [
    "Пусть $v(t)$ - скорость лодки в момент времени t от начала движения\n",
    "то, $\\frac{dv}{dt}$ есть ее ускорение\n",
    "Согласно второму закону Ньютона\n",
    "$$m\\frac{dv}{dt}=F$$, F - сила сопротивление воды"
   ]
  },
  {
   "cell_type": "code",
   "execution_count": 1,
   "metadata": {
    "collapsed": true
   },
   "outputs": [],
   "source": [
    "from sympy import*"
   ]
  },
  {
   "cell_type": "code",
   "execution_count": 2,
   "metadata": {
    "collapsed": true
   },
   "outputs": [],
   "source": [
    "init_printing()"
   ]
  },
  {
   "cell_type": "code",
   "execution_count": 3,
   "metadata": {
    "collapsed": true
   },
   "outputs": [],
   "source": [
    "t,m,k,k_0 = symbols('t m k k_0')"
   ]
  },
  {
   "cell_type": "code",
   "execution_count": 4,
   "metadata": {
    "collapsed": true
   },
   "outputs": [],
   "source": [
    "v = Function('v')"
   ]
  },
  {
   "cell_type": "markdown",
   "metadata": {},
   "source": [
    "по условию $F=kv$\n",
    "$$\\frac{dv}{dt}=\\frac{k}{m}v$$\n",
    "$k_0=\\frac{k}{m}$"
   ]
  },
  {
   "cell_type": "code",
   "execution_count": 5,
   "metadata": {
    "collapsed": false
   },
   "outputs": [
    {
     "data": {
      "image/png": "[encoded data removed]",
      "text/latex": [
       "$$- k_{0} v{\\left (t \\right )} + \\frac{d}{d t} v{\\left (t \\right )}$$"
      ],
      "text/plain": [
       "           d       \n",
       "-k₀⋅v(t) + ──(v(t))\n",
       "           dt      "
      ]
     },
     "execution_count": 5,
     "metadata": {},
     "output_type": "execute_result"
    }
   ],
   "source": [
    "eq = diff(v(t),t)-k_0*v(t)\n",
    "eq"
   ]
  },
  {
   "cell_type": "code",
   "execution_count": 6,
   "metadata": {
    "collapsed": false
   },
   "outputs": [
    {
     "data": {
      "image/png": "[encoded data removed]",
      "text/latex": [
       "$$- k_{0} v{\\left (t \\right )} + \\frac{d}{d t} v{\\left (t \\right )} = 0$$"
      ],
      "text/plain": [
       "           d           \n",
       "-k₀⋅v(t) + ──(v(t)) = 0\n",
       "           dt          "
      ]
     },
     "execution_count": 6,
     "metadata": {},
     "output_type": "execute_result"
    }
   ],
   "source": [
    "ode_eq = Eq(eq)\n",
    "ode_eq"
   ]
  },
  {
   "cell_type": "code",
   "execution_count": 7,
   "metadata": {
    "collapsed": false
   },
   "outputs": [
    {
     "data": {
      "image/png": "[encoded data removed]",
      "text/latex": [
       "$$v{\\left (t \\right )} = C_{1} e^{k_{0} t}$$"
      ],
      "text/plain": [
       "           k₀⋅t\n",
       "v(t) = C₁⋅ℯ    "
      ]
     },
     "execution_count": 7,
     "metadata": {},
     "output_type": "execute_result"
    }
   ],
   "source": [
    "ode_sol = dsolve(ode_eq)\n",
    "ode_sol"
   ]
  },
  {
   "cell_type": "markdown",
   "metadata": {},
   "source": [
    "Используя условие $v(0)=1,5$ , находим С "
   ]
  },
  {
   "cell_type": "code",
   "execution_count": 8,
   "metadata": {
    "collapsed": true
   },
   "outputs": [],
   "source": [
    "v_0,C1 = symbols('v_0 C1')"
   ]
  },
  {
   "cell_type": "code",
   "execution_count": 9,
   "metadata": {
    "collapsed": false
   },
   "outputs": [
    {
     "data": {
      "image/png": "[encoded data removed]",
      "text/latex": [
       "$$\\left \\{ v{\\left (0 \\right )} : v_{0}\\right \\}$$"
      ],
      "text/plain": [
       "{v(0): v₀}"
      ]
     },
     "execution_count": 9,
     "metadata": {},
     "output_type": "execute_result"
    }
   ],
   "source": [
    "ics = {v(0):v_0}\n",
    "ics"
   ]
  },
  {
   "cell_type": "code",
   "execution_count": 10,
   "metadata": {
    "collapsed": false
   },
   "outputs": [
    {
     "data": {
      "image/png": "[encoded data removed]",
      "text/latex": [
       "$$v_{0}$$"
      ],
      "text/plain": [
       "v₀"
      ]
     },
     "execution_count": 10,
     "metadata": {},
     "output_type": "execute_result"
    }
   ],
   "source": [
    "sol_lhs = ode_sol.lhs.subs(t,0).subs(ics)\n",
    "sol_lhs"
   ]
  },
  {
   "cell_type": "code",
   "execution_count": 11,
   "metadata": {
    "collapsed": false
   },
   "outputs": [
    {
     "data": {
      "image/png": "[encoded data removed]",
      "text/latex": [
       "$$1.5$$"
      ],
      "text/plain": [
       "1.50000000000000"
      ]
     },
     "execution_count": 11,
     "metadata": {},
     "output_type": "execute_result"
    }
   ],
   "source": [
    "v0 = sol_lhs.subs(v_0,1.5)\n",
    "v0"
   ]
  },
  {
   "cell_type": "code",
   "execution_count": 12,
   "metadata": {
    "collapsed": false
   },
   "outputs": [
    {
     "data": {
      "image/png": "[encoded data removed]",
      "text/latex": [
       "$$C_{1}$$"
      ],
      "text/plain": [
       "C₁"
      ]
     },
     "execution_count": 12,
     "metadata": {},
     "output_type": "execute_result"
    }
   ],
   "source": [
    "sol_rhs = ode_sol.rhs.subs(t,0)\n",
    "sol_rhs"
   ]
  },
  {
   "cell_type": "code",
   "execution_count": 13,
   "metadata": {
    "collapsed": false
   },
   "outputs": [
    {
     "data": {
      "image/png": "[encoded data removed]",
      "text/latex": [
       "$$1.5 = C_{1}$$"
      ],
      "text/plain": [
       "1.5 = C₁"
      ]
     },
     "execution_count": 13,
     "metadata": {},
     "output_type": "execute_result"
    }
   ],
   "source": [
    "eq_C = Eq(v0,sol_rhs)\n",
    "eq_C"
   ]
  },
  {
   "cell_type": "code",
   "execution_count": 14,
   "metadata": {
    "collapsed": false
   },
   "outputs": [
    {
     "data": {
      "image/png": "[encoded data removed]",
      "text/latex": [
       "$$\\left [ 1.5\\right ]$$"
      ],
      "text/plain": [
       "[1.5]"
      ]
     },
     "execution_count": 14,
     "metadata": {},
     "output_type": "execute_result"
    }
   ],
   "source": [
    "val_C = solve(eq_C)\n",
    "val_C"
   ]
  },
  {
   "cell_type": "code",
   "execution_count": 15,
   "metadata": {
    "collapsed": false
   },
   "outputs": [
    {
     "data": {
      "image/png": "[encoded data removed]",
      "text/latex": [
       "$$v{\\left (t \\right )} = 1.5 e^{k_{0} t}$$"
      ],
      "text/plain": [
       "            k₀⋅t\n",
       "v(t) = 1.5⋅ℯ    "
      ]
     },
     "execution_count": 15,
     "metadata": {},
     "output_type": "execute_result"
    }
   ],
   "source": [
    "ode_f_eq = ode_sol.subs({C1:val_C[0]})\n",
    "ode_f_eq"
   ]
  },
  {
   "cell_type": "markdown",
   "metadata": {},
   "source": [
    "По условию v(4) = 1 m/c"
   ]
  },
  {
   "cell_type": "code",
   "execution_count": 16,
   "metadata": {
    "collapsed": false
   },
   "outputs": [
    {
     "data": {
      "image/png": "[encoded data removed]",
      "text/latex": [
       "$$v{\\left (4 \\right )} = 1.5 e^{4 k_{0}}$$"
      ],
      "text/plain": [
       "            4⋅k₀\n",
       "v(4) = 1.5⋅ℯ    "
      ]
     },
     "execution_count": 16,
     "metadata": {},
     "output_type": "execute_result"
    }
   ],
   "source": [
    "ode_re_eq = ode_f_eq.subs(t,4)\n",
    "ode_re_eq"
   ]
  },
  {
   "cell_type": "code",
   "execution_count": 17,
   "metadata": {
    "collapsed": false
   },
   "outputs": [
    {
     "data": {
      "image/png": "[encoded data removed]",
      "text/latex": [
       "$$1 = 1.5 e^{4 k_{0}}$$"
      ],
      "text/plain": [
       "         4⋅k₀\n",
       "1 = 1.5⋅ℯ    "
      ]
     },
     "execution_count": 17,
     "metadata": {},
     "output_type": "execute_result"
    }
   ],
   "source": [
    "v_4 = ode_re_eq.subs(v(4),1)\n",
    "v_4"
   ]
  },
  {
   "cell_type": "code",
   "execution_count": 18,
   "metadata": {
    "collapsed": false
   },
   "outputs": [
    {
     "data": {
      "image/png": "[encoded data removed]",
      "text/latex": [
       "$$- 1.5 e^{4 k_{0}} + 1$$"
      ],
      "text/plain": [
       "       4⋅k₀    \n",
       "- 1.5⋅ℯ     + 1"
      ]
     },
     "execution_count": 18,
     "metadata": {},
     "output_type": "execute_result"
    }
   ],
   "source": [
    "k0_eq = 1 - v_4.rhs\n",
    "k0_eq"
   ]
  },
  {
   "cell_type": "code",
   "execution_count": 19,
   "metadata": {
    "collapsed": false
   },
   "outputs": [
    {
     "data": {
      "image/png": "[encoded data removed]",
      "text/latex": [
       "$$\\left [ -0.101366277027041, \\quad -0.101366277027041 - 1.5707963267949 i, \\quad -0.101366277027041 + 1.5707963267949 i, \\quad -0.101366277027041 + 3.14159265358979 i\\right ]$$"
      ],
      "text/plain": [
       "[-0.101366277027041, -0.101366277027041 - 1.5707963267949⋅ⅈ, -0.10136627702704\n",
       "1 + 1.5707963267949⋅ⅈ, -0.101366277027041 + 3.14159265358979⋅ⅈ]"
      ]
     },
     "execution_count": 19,
     "metadata": {},
     "output_type": "execute_result"
    }
   ],
   "source": [
    "k0_sol = solve(k0_eq)\n",
    "k0_sol"
   ]
  },
  {
   "cell_type": "code",
   "execution_count": 20,
   "metadata": {
    "collapsed": false
   },
   "outputs": [
    {
     "data": {
      "image/png": "[encoded data removed]",
      "text/latex": [
       "$$-0.101366277027041$$"
      ],
      "text/plain": [
       "-0.101366277027041"
      ]
     },
     "execution_count": 20,
     "metadata": {},
     "output_type": "execute_result"
    }
   ],
   "source": [
    "k0_sol[0]"
   ]
  },
  {
   "cell_type": "code",
   "execution_count": null,
   "metadata": {
    "collapsed": true
   },
   "outputs": [],
   "source": []
  }
 ],
 "metadata": {
  "kernelspec": {
   "display_name": "Python 3",
   "language": "python",
   "name": "python3"
  },
  "language_info": {
   "codemirror_mode": {
    "name": "ipython",
    "version": 3
   },
   "file_extension": ".py",
   "mimetype": "text/x-python",
   "name": "python",
   "nbconvert_exporter": "python",
   "pygments_lexer": "ipython3",
   "version": "3.6.0"
  }
 },
 "nbformat": 4,
 "nbformat_minor": 2
}
