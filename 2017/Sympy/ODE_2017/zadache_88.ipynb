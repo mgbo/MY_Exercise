{
 "cells": [
  {
   "cell_type": "markdown",
   "metadata": {},
   "source": [
    "# Задача (88)"
   ]
  },
  {
   "cell_type": "markdown",
   "metadata": {},
   "source": [
    "Согласно второму закону Ньютона,\n",
    "$$m\\frac{dv}{dt}=mg-kv^2$$"
   ]
  },
  {
   "cell_type": "code",
   "execution_count": 14,
   "metadata": {
    "collapsed": true
   },
   "outputs": [],
   "source": [
    "from sympy import*\n",
    "init_printing()"
   ]
  },
  {
   "cell_type": "code",
   "execution_count": 15,
   "metadata": {
    "collapsed": true
   },
   "outputs": [],
   "source": [
    "v = Function('v')\n",
    "k,k_0,t,m,g = symbols('k k_0 t m g')"
   ]
  },
  {
   "cell_type": "code",
   "execution_count": 16,
   "metadata": {},
   "outputs": [
    {
     "data": {
      "image/png": "[encoded data removed]",
      "text/latex": [
       "$$- g + k_{0} v^{2}{\\left (t \\right )} + \\frac{d}{d t} v{\\left (t \\right )}$$"
      ],
      "text/plain": [
       "         2      d       \n",
       "-g + k₀⋅v (t) + ──(v(t))\n",
       "                dt      "
      ]
     },
     "execution_count": 16,
     "metadata": {},
     "output_type": "execute_result"
    }
   ],
   "source": [
    "eq = diff(v(t),t)-g+k_0*v(t)**2\n",
    "eq"
   ]
  },
  {
   "cell_type": "code",
   "execution_count": 17,
   "metadata": {},
   "outputs": [
    {
     "data": {
      "image/png": "[encoded data removed]",
      "text/latex": [
       "$$- g + k_{0} v^{2}{\\left (t \\right )} + \\frac{d}{d t} v{\\left (t \\right )} = 0$$"
      ],
      "text/plain": [
       "         2      d           \n",
       "-g + k₀⋅v (t) + ──(v(t)) = 0\n",
       "                dt          "
      ]
     },
     "execution_count": 17,
     "metadata": {},
     "output_type": "execute_result"
    }
   ],
   "source": [
    "ode_eq = Eq(eq)\n",
    "ode_eq"
   ]
  },
  {
   "cell_type": "code",
   "execution_count": 18,
   "metadata": {},
   "outputs": [
    {
     "data": {
      "image/png": "[encoded data removed]",
      "text/latex": [
       "$$v{\\left (t \\right )} = \\frac{\\sqrt{g}}{\\sqrt{k_{0}}} \\left(- \\frac{1}{e^{2 \\sqrt{g} \\sqrt{k_{0}} \\left(C_{1} - t\\right)} - 1} - \\frac{e^{2 C_{1} \\sqrt{g} \\sqrt{k_{0}}}}{e^{2 C_{1} \\sqrt{g} \\sqrt{k_{0}}} - e^{2 \\sqrt{g} \\sqrt{k_{0}} t}}\\right)$$"
      ],
      "text/plain": [
       "          ⎛                                                 ____         ⎞\n",
       "          ⎜                                       2⋅C₁⋅√g⋅╲╱ k₀          ⎟\n",
       "          ⎜              1                       ℯ                       ⎟\n",
       "       √g⋅⎜- ───────────────────────── - ────────────────────────────────⎟\n",
       "          ⎜          ____                           ____           ____  ⎟\n",
       "          ⎜   2⋅√g⋅╲╱ k₀ ⋅(C₁ - t)        2⋅C₁⋅√g⋅╲╱ k₀     2⋅√g⋅╲╱ k₀ ⋅t⎟\n",
       "          ⎝  ℯ                     - 1   ℯ               - ℯ             ⎠\n",
       "v(t) = ───────────────────────────────────────────────────────────────────\n",
       "                                        ____                              \n",
       "                                      ╲╱ k₀                               "
      ]
     },
     "execution_count": 18,
     "metadata": {},
     "output_type": "execute_result"
    }
   ],
   "source": [
    "ode_sol = dsolve(ode_eq)\n",
    "ode_sol"
   ]
  }
 ],
 "metadata": {
  "kernelspec": {
   "display_name": "Python 3",
   "language": "python",
   "name": "python3"
  },
  "language_info": {
   "codemirror_mode": {
    "name": "ipython",
    "version": 3
   },
   "file_extension": ".py",
   "mimetype": "text/x-python",
   "name": "python",
   "nbconvert_exporter": "python",
   "pygments_lexer": "ipython3",
   "version": "3.6.5"
  }
 },
 "nbformat": 4,
 "nbformat_minor": 2
}
