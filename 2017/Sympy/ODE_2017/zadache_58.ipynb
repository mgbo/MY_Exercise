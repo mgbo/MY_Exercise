{
 "cells": [
  {
   "cell_type": "markdown",
   "metadata": {},
   "source": [
    "# Задача (58)"
   ]
  },
  {
   "cell_type": "code",
   "execution_count": 1,
   "metadata": {
    "collapsed": true
   },
   "outputs": [],
   "source": [
    "from sympy import*\n",
    "init_printing()"
   ]
  },
  {
   "cell_type": "code",
   "execution_count": 4,
   "metadata": {
    "collapsed": true
   },
   "outputs": [],
   "source": [
    "y= Function('y')\n",
    "x = symbols('x') "
   ]
  },
  {
   "cell_type": "code",
   "execution_count": 6,
   "metadata": {},
   "outputs": [
    {
     "data": {
      "image/png": "[encoded data removed]",
      "text/latex": [
       "$$- x y^{2}{\\left (x \\right )} - 2 x y{\\left (x \\right )} + \\frac{d}{d x} y{\\left (x \\right )}$$"
      ],
      "text/plain": [
       "     2                 d       \n",
       "- x⋅y (x) - 2⋅x⋅y(x) + ──(y(x))\n",
       "                       dx      "
      ]
     },
     "execution_count": 6,
     "metadata": {},
     "output_type": "execute_result"
    }
   ],
   "source": [
    "exp = diff(y(x),x) - x*y(x)**2 - 2*x*y(x)\n",
    "exp"
   ]
  },
  {
   "cell_type": "code",
   "execution_count": 7,
   "metadata": {},
   "outputs": [
    {
     "data": {
      "image/png": "[encoded data removed]",
      "text/latex": [
       "$$- x y^{2}{\\left (x \\right )} - 2 x y{\\left (x \\right )} + \\frac{d}{d x} y{\\left (x \\right )} = 0$$"
      ],
      "text/plain": [
       "     2                 d           \n",
       "- x⋅y (x) - 2⋅x⋅y(x) + ──(y(x)) = 0\n",
       "                       dx          "
      ]
     },
     "execution_count": 7,
     "metadata": {},
     "output_type": "execute_result"
    }
   ],
   "source": [
    "eq = Eq(exp,0)\n",
    "eq"
   ]
  },
  {
   "cell_type": "code",
   "execution_count": 8,
   "metadata": {},
   "outputs": [
    {
     "data": {
      "image/png": "[encoded data removed]",
      "text/latex": [
       "$$y{\\left (x \\right )} = - \\frac{2 e^{2 C_{1} + x^{2}}}{e^{2 C_{1} + x^{2}} - 1}$$"
      ],
      "text/plain": [
       "                   2 \n",
       "           2⋅C₁ + x  \n",
       "       -2⋅ℯ          \n",
       "y(x) = ──────────────\n",
       "                2    \n",
       "        2⋅C₁ + x     \n",
       "       ℯ          - 1"
      ]
     },
     "execution_count": 8,
     "metadata": {},
     "output_type": "execute_result"
    }
   ],
   "source": [
    "sol = dsolve(eq);sol"
   ]
  },
  {
   "cell_type": "code",
   "execution_count": null,
   "metadata": {
    "collapsed": true
   },
   "outputs": [],
   "source": []
  }
 ],
 "metadata": {
  "kernelspec": {
   "display_name": "Python 3",
   "language": "python",
   "name": "python3"
  },
  "language_info": {
   "codemirror_mode": {
    "name": "ipython",
    "version": 3
   },
   "file_extension": ".py",
   "mimetype": "text/x-python",
   "name": "python",
   "nbconvert_exporter": "python",
   "pygments_lexer": "ipython3",
   "version": "3.6.5"
  }
 },
 "nbformat": 4,
 "nbformat_minor": 2
}
