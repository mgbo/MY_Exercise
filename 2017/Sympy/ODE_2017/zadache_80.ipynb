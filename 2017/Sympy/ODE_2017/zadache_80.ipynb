{
 "cells": [
  {
   "cell_type": "markdown",
   "metadata": {},
   "source": [
    "# Задача (80)"
   ]
  },
  {
   "cell_type": "markdown",
   "metadata": {},
   "source": [
    "Условие задачи,\n",
    "\n",
    "Тело охладилось за 10 мин от 100° до 60°. Температура окружающего воздуха поддерживается равной 20°. Когда тело остынет до 25°?"
   ]
  },
  {
   "cell_type": "markdown",
   "metadata": {},
   "source": [
    "Общее Урванение,\n",
    "$$\\frac{dT}{dt} = k(T-T_s)$$\n",
    "T - температура тело,\n",
    "T_s =Температура окружающего воздуха,\n",
    "k = коэффициент пропорциональности"
   ]
  },
  {
   "cell_type": "code",
   "execution_count": 30,
   "metadata": {},
   "outputs": [],
   "source": [
    "from sympy import*\n",
    "init_printing()"
   ]
  },
  {
   "cell_type": "code",
   "execution_count": 31,
   "metadata": {},
   "outputs": [],
   "source": [
    "T = Function('T')\n",
    "t,k,T_s,T_0,C1 = symbols('t k T_s T_0 C1')"
   ]
  },
  {
   "cell_type": "code",
   "execution_count": 32,
   "metadata": {},
   "outputs": [
    {
     "data": {
      "image/png": "[encoded data removed]",
      "text/latex": [
       "$$T_{s} k - k T{\\left (t \\right )} + \\frac{d}{d t} T{\\left (t \\right )} = 0$$"
      ],
      "text/plain": [
       "                d           \n",
       "Tₛ⋅k - k⋅T(t) + ──(T(t)) = 0\n",
       "                dt          "
      ]
     },
     "execution_count": 32,
     "metadata": {},
     "output_type": "execute_result"
    }
   ],
   "source": [
    "eq = Eq(diff(T(t),t)-k*T(t)+T_s*k)\n",
    "eq"
   ]
  },
  {
   "cell_type": "code",
   "execution_count": 33,
   "metadata": {},
   "outputs": [
    {
     "data": {
      "image/png": "[encoded data removed]",
      "text/latex": [
       "$$- k T{\\left (t \\right )} + 20 k + \\frac{d}{d t} T{\\left (t \\right )} = 0$$"
      ],
      "text/plain": [
       "                 d           \n",
       "-k⋅T(t) + 20⋅k + ──(T(t)) = 0\n",
       "                 dt          "
      ]
     },
     "execution_count": 33,
     "metadata": {},
     "output_type": "execute_result"
    }
   ],
   "source": [
    "eq_1 = eq.subs({T_s:20})\n",
    "eq_1"
   ]
  },
  {
   "cell_type": "code",
   "execution_count": 34,
   "metadata": {},
   "outputs": [
    {
     "data": {
      "image/png": "[encoded data removed]",
      "text/latex": [
       "$$T{\\left (t \\right )} = C_{1} e^{k t} + 20$$"
      ],
      "text/plain": [
       "           k⋅t     \n",
       "T(t) = C₁⋅ℯ    + 20"
      ]
     },
     "execution_count": 34,
     "metadata": {},
     "output_type": "execute_result"
    }
   ],
   "source": [
    "ode_sol = dsolve(eq_1)\n",
    "ode_sol"
   ]
  },
  {
   "cell_type": "code",
   "execution_count": 35,
   "metadata": {},
   "outputs": [
    {
     "data": {
      "image/png": "[encoded data removed]",
      "text/latex": [
       "$$\\left \\{ T{\\left (0 \\right )} : T_{0}\\right \\}$$"
      ],
      "text/plain": [
       "{T(0): T₀}"
      ]
     },
     "execution_count": 35,
     "metadata": {},
     "output_type": "execute_result"
    }
   ],
   "source": [
    "ics = {T(0):T_0}\n",
    "ics"
   ]
  },
  {
   "cell_type": "code",
   "execution_count": 36,
   "metadata": {},
   "outputs": [
    {
     "data": {
      "image/png": "[encoded data removed]",
      "text/latex": [
       "$$T_{0} = C_{1} + 20$$"
      ],
      "text/plain": [
       "T₀ = C₁ + 20"
      ]
     },
     "execution_count": 36,
     "metadata": {},
     "output_type": "execute_result"
    }
   ],
   "source": [
    "ics_sol = ode_sol.subs({t:0}).subs(ics)\n",
    "ics_sol"
   ]
  },
  {
   "cell_type": "markdown",
   "metadata": {},
   "source": [
    "по условию задачи начало температура тела равно 100 значит T(0) = 100"
   ]
  },
  {
   "cell_type": "code",
   "execution_count": 37,
   "metadata": {},
   "outputs": [
    {
     "data": {
      "image/png": "[encoded data removed]",
      "text/latex": [
       "$$100 = C_{1} + 20$$"
      ],
      "text/plain": [
       "100 = C₁ + 20"
      ]
     },
     "execution_count": 37,
     "metadata": {},
     "output_type": "execute_result"
    }
   ],
   "source": [
    "ics_re = ics_sol.subs(T_0,100)\n",
    "ics_re"
   ]
  },
  {
   "cell_type": "code",
   "execution_count": 38,
   "metadata": {},
   "outputs": [
    {
     "data": {
      "image/png": "[encoded data removed]",
      "text/latex": [
       "$$\\left [ 80\\right ]$$"
      ],
      "text/plain": [
       "[80]"
      ]
     },
     "execution_count": 38,
     "metadata": {},
     "output_type": "execute_result"
    }
   ],
   "source": [
    "sol_C1 = solve(ics_re)\n",
    "sol_C1"
   ]
  },
  {
   "cell_type": "code",
   "execution_count": 39,
   "metadata": {},
   "outputs": [
    {
     "data": {
      "image/png": "[encoded data removed]",
      "text/latex": [
       "$$80 e^{k t} + 20$$"
      ],
      "text/plain": [
       "    k⋅t     \n",
       "80⋅ℯ    + 20"
      ]
     },
     "execution_count": 39,
     "metadata": {},
     "output_type": "execute_result"
    }
   ],
   "source": [
    "ode_re = ode_sol.rhs.subs(C1,sol_C1[0])\n",
    "ode_re"
   ]
  },
  {
   "cell_type": "markdown",
   "metadata": {},
   "source": [
    "По условию,\n",
    "\n",
    "T(10) = 60, Отсюда можно определить k"
   ]
  },
  {
   "cell_type": "code",
   "execution_count": 40,
   "metadata": {},
   "outputs": [
    {
     "data": {
      "image/png": "[encoded data removed]",
      "text/latex": [
       "$$80 e^{k t} + 20 = 60$$"
      ],
      "text/plain": [
       "    k⋅t          \n",
       "80⋅ℯ    + 20 = 60"
      ]
     },
     "execution_count": 40,
     "metadata": {},
     "output_type": "execute_result"
    }
   ],
   "source": [
    "t_10 = Eq(ode_re,60)\n",
    "t_10"
   ]
  },
  {
   "cell_type": "code",
   "execution_count": 41,
   "metadata": {},
   "outputs": [
    {
     "data": {
      "image/png": "[encoded data removed]",
      "text/latex": [
       "$$80 e^{10 k} + 20 = 60$$"
      ],
      "text/plain": [
       "    10⋅k          \n",
       "80⋅ℯ     + 20 = 60"
      ]
     },
     "execution_count": 41,
     "metadata": {},
     "output_type": "execute_result"
    }
   ],
   "source": [
    "t_10_re = t_10.subs(t,10)\n",
    "t_10_re"
   ]
  },
  {
   "cell_type": "code",
   "execution_count": 42,
   "metadata": {},
   "outputs": [
    {
     "data": {
      "image/png": "[encoded data removed]",
      "text/latex": [
       "$$80 e^{10 k} - 40$$"
      ],
      "text/plain": [
       "    10⋅k     \n",
       "80⋅ℯ     - 40"
      ]
     },
     "execution_count": 42,
     "metadata": {},
     "output_type": "execute_result"
    }
   ],
   "source": [
    "t_sim = t_10_re.lhs - 60\n",
    "t_sim"
   ]
  },
  {
   "cell_type": "code",
   "execution_count": 47,
   "metadata": {},
   "outputs": [
    {
     "data": {
      "image/png": "[encoded data removed]",
      "text/latex": [
       "$$-0.0693147180559945 + 3.14159265358979 i$$"
      ],
      "text/plain": [
       "-0.0693147180559945 + 3.14159265358979⋅ⅈ"
      ]
     },
     "execution_count": 47,
     "metadata": {},
     "output_type": "execute_result"
    }
   ],
   "source": [
    "t_sim_1 = solve(t_sim, integer=True)\n",
    "t_sim_1[0].n()"
   ]
  },
  {
   "cell_type": "code",
   "execution_count": 49,
   "metadata": {},
   "outputs": [
    {
     "data": {
      "image/png": "[encoded data removed]",
      "text/latex": [
       "$$80.0 e^{t \\left(\\log{\\left (\\frac{2^{\\frac{9}{10}}}{2} \\right )} + i \\pi\\right)} + 20.0$$"
      ],
      "text/plain": [
       "        ⎛   ⎛ 9/10⎞      ⎞       \n",
       "        ⎜   ⎜2    ⎟      ⎟       \n",
       "      t⋅⎜log⎜─────⎟ + ⅈ⋅π⎟       \n",
       "        ⎝   ⎝  2  ⎠      ⎠       \n",
       "80.0⋅ℯ                     + 20.0"
      ]
     },
     "execution_count": 49,
     "metadata": {},
     "output_type": "execute_result"
    }
   ],
   "source": [
    "ode_fin = ode_re.subs(k,t_sim_1[0])\n",
    "ode_fin.n()"
   ]
  },
  {
   "cell_type": "code",
   "execution_count": 50,
   "metadata": {},
   "outputs": [
    {
     "data": {
      "image/png": "[encoded data removed]",
      "text/latex": [
       "$$80 e^{t \\left(\\log{\\left (\\frac{2^{\\frac{9}{10}}}{2} \\right )} + i \\pi\\right)} + 20 = 25$$"
      ],
      "text/plain": [
       "      ⎛   ⎛ 9/10⎞      ⎞          \n",
       "      ⎜   ⎜2    ⎟      ⎟          \n",
       "    t⋅⎜log⎜─────⎟ + ⅈ⋅π⎟          \n",
       "      ⎝   ⎝  2  ⎠      ⎠          \n",
       "80⋅ℯ                     + 20 = 25"
      ]
     },
     "execution_count": 50,
     "metadata": {},
     "output_type": "execute_result"
    }
   ],
   "source": [
    "res_ode_eq = Eq(ode_fin,25)\n",
    "res_ode_eq"
   ]
  },
  {
   "cell_type": "code",
   "execution_count": 52,
   "metadata": {},
   "outputs": [
    {
     "data": {
      "image/png": "[encoded data removed]",
      "text/latex": [
       "$$\\frac{40 \\log^{2}{\\left (2 \\right )} + 400 i \\pi \\log{\\left (2 \\right )}}{\\log^{2}{\\left (2 \\right )} + 100 \\pi^{2}}$$"
      ],
      "text/plain": [
       "      2                    \n",
       "40⋅log (2) + 400⋅ⅈ⋅π⋅log(2)\n",
       "───────────────────────────\n",
       "         2           2     \n",
       "      log (2) + 100⋅π      "
      ]
     },
     "execution_count": 52,
     "metadata": {},
     "output_type": "execute_result"
    }
   ],
   "source": [
    "res_ode = solve(res_ode_eq, integer=True)\n",
    "res_ode[0]\n"
   ]
  },
  {
   "cell_type": "code",
   "execution_count": null,
   "metadata": {},
   "outputs": [],
   "source": []
  }
 ],
 "metadata": {
  "kernelspec": {
   "display_name": "Python 3",
   "language": "python",
   "name": "python3"
  },
  "language_info": {
   "codemirror_mode": {
    "name": "ipython",
    "version": 3
   },
   "file_extension": ".py",
   "mimetype": "text/x-python",
   "name": "python",
   "nbconvert_exporter": "python",
   "pygments_lexer": "ipython3",
   "version": "3.6.5"
  }
 },
 "nbformat": 4,
 "nbformat_minor": 2
}
