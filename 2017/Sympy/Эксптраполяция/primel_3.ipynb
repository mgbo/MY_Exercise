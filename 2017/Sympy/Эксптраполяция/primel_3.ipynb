{
 "cells": [
  {
   "cell_type": "markdown",
   "metadata": {},
   "source": [
    "# Еще один пример для scipy (произвольная функция)"
   ]
  },
  {
   "cell_type": "markdown",
   "metadata": {},
   "source": [
    "Пусть мы проверяем гипотезу, что наши точки ложатся на кривую вида $$f (x,b) = b0 + b1*exp(-b2*x^2)$$"
   ]
  },
  {
   "cell_type": "markdown",
   "metadata": {},
   "source": [
    "$\\textbf{Генерация тестовых данных}$\n",
    "\n",
    "Добавим шума в данные, сделанные по функции f(x,b) с коэффициентами b = (0.25, 0.75, 0.5)"
   ]
  },
  {
   "cell_type": "code",
   "execution_count": 1,
   "metadata": {
    "collapsed": true
   },
   "outputs": [],
   "source": [
    "from pylab import*"
   ]
  },
  {
   "cell_type": "code",
   "execution_count": 2,
   "metadata": {
    "collapsed": true
   },
   "outputs": [],
   "source": [
    "from scipy.optimize import*"
   ]
  },
  {
   "cell_type": "code",
   "execution_count": 3,
   "metadata": {
    "collapsed": true
   },
   "outputs": [],
   "source": [
    "from scipy.linalg import*"
   ]
  },
  {
   "cell_type": "code",
   "execution_count": 4,
   "metadata": {
    "collapsed": true
   },
   "outputs": [],
   "source": [
    "import numpy as np"
   ]
  },
  {
   "cell_type": "code",
   "execution_count": 5,
   "metadata": {
    "collapsed": true
   },
   "outputs": [],
   "source": [
    "def f(x,b0,b1,b2):\n",
    "    return b0+b1*np.exp(-b2*x**2)"
   ]
  },
  {
   "cell_type": "markdown",
   "metadata": {},
   "source": [
    "$\\textbf{зададим массив точек хi}$"
   ]
  },
  {
   "cell_type": "code",
   "execution_count": 6,
   "metadata": {
    "collapsed": true
   },
   "outputs": [],
   "source": [
    "xdata = np.linspace(0,5,50) "
   ]
  },
  {
   "cell_type": "markdown",
   "metadata": {},
   "source": [
    "Добавим шума в данные, сделанные по функции f(x,b) с коэффициентами b = (0.25, 0.75, 0.5) // можно любые коэффициентны"
   ]
  },
  {
   "cell_type": "code",
   "execution_count": 7,
   "metadata": {
    "collapsed": true
   },
   "outputs": [],
   "source": [
    "beta = (0.25, 0.75, 0.5) "
   ]
  },
  {
   "cell_type": "code",
   "execution_count": 8,
   "metadata": {
    "collapsed": false
   },
   "outputs": [
    {
     "data": {
      "text/plain": [
       "array([ 1.        ,  0.99610552,  0.98454301,  0.96566897,  0.94005726,\n",
       "        0.90847009,  0.8718204 ,  0.83112807,  0.7874731 ,  0.74194844,\n",
       "        0.69561564,  0.64946548,  0.6043856 ,  0.56113642,  0.52033584,\n",
       "        0.48245259,  0.44780767,  0.41658268,  0.38883359,  0.36450838,\n",
       "        0.34346692,  0.32550167,  0.31035778,  0.29775159,  0.28738699,\n",
       "        0.27896884,  0.27221363,  0.26685723,  0.26265991,  0.25940921,\n",
       "        0.25692076,  0.2550377 ,  0.25362901,  0.25258716,  0.25182531,\n",
       "        0.25127446,  0.25088063,  0.2506022 ,  0.25040754,  0.25027294,\n",
       "        0.2501809 ,  0.25011866,  0.25007703,  0.25004948,  0.25003146,\n",
       "        0.25001979,  0.25001232,  0.25000759,  0.25000463,  0.25000279])"
      ]
     },
     "execution_count": 8,
     "metadata": {},
     "output_type": "execute_result"
    }
   ],
   "source": [
    "y = f(xdata, *beta) # создаем теоретически правильные значения точек yi (без шума)\n",
    "y"
   ]
  },
  {
   "cell_type": "code",
   "execution_count": 9,
   "metadata": {
    "collapsed": true
   },
   "outputs": [],
   "source": [
    "ydata = y + 0.05*np.random.randn(len(xdata))"
   ]
  },
  {
   "cell_type": "markdown",
   "metadata": {},
   "source": [
    "$\\textbf{Решение}$\n",
    "\n",
    "Используем функцию для получения решения в виде коэффициентов функции f(x) для указанных xdata и ydata"
   ]
  },
  {
   "cell_type": "code",
   "execution_count": 10,
   "metadata": {
    "collapsed": false
   },
   "outputs": [
    {
     "data": {
      "text/plain": [
       "array([ 0.24501879,  0.75413589,  0.47978413])"
      ]
     },
     "execution_count": 10,
     "metadata": {},
     "output_type": "execute_result"
    }
   ],
   "source": [
    "beta_opt, beta_cov = curve_fit(f,xdata, ydata)\n",
    "beta_opt"
   ]
  },
  {
   "cell_type": "markdown",
   "metadata": {
    "collapsed": true
   },
   "source": [
    "Вычислим, насколько велико линейное отклонение"
   ]
  },
  {
   "cell_type": "code",
   "execution_count": 11,
   "metadata": {
    "collapsed": false
   },
   "outputs": [
    {
     "data": {
      "text/plain": [
       "0.0002269473568773827"
      ]
     },
     "execution_count": 11,
     "metadata": {},
     "output_type": "execute_result"
    }
   ],
   "source": [
    "lin_dev =  sum(beta_cov[0])\n",
    "lin_dev"
   ]
  },
  {
   "cell_type": "markdown",
   "metadata": {},
   "source": [
    "Вычислим, насколько велико квадратичное отклонение"
   ]
  },
  {
   "cell_type": "code",
   "execution_count": 12,
   "metadata": {
    "collapsed": false
   },
   "outputs": [
    {
     "data": {
      "text/plain": [
       "array([-0.03454211,  0.04667523,  0.00794812, -0.04071691,  0.03480848,\n",
       "        0.00193459, -0.10598847, -0.04549355,  0.12682635,  0.00833954,\n",
       "        0.03929275, -0.00368352, -0.01114022, -0.02053654, -0.00508754,\n",
       "        0.04569345, -0.00836436,  0.00629358,  0.00983352, -0.07209501,\n",
       "        0.01123425,  0.01727595,  0.02258147,  0.03488927,  0.01681608,\n",
       "       -0.05409389, -0.01130378, -0.02724558, -0.06311068, -0.11231427,\n",
       "        0.00037965,  0.01219867, -0.02580405, -0.06611743, -0.02244841,\n",
       "        0.01463344, -0.07422258,  0.0677175 ,  0.02500358,  0.05091575,\n",
       "        0.08619386,  0.05383478,  0.00673491,  0.00651165, -0.02999357,\n",
       "        0.1222842 , -0.06077023,  0.03442392, -0.0262617 ,  0.01005984])"
      ]
     },
     "execution_count": 12,
     "metadata": {},
     "output_type": "execute_result"
    }
   ],
   "source": [
    "residuals = ydata - f(xdata,*beta_opt)\n",
    "residuals"
   ]
  },
  {
   "cell_type": "code",
   "execution_count": 13,
   "metadata": {
    "collapsed": false
   },
   "outputs": [
    {
     "data": {
      "text/plain": [
       "0.11936913791831234"
      ]
     },
     "execution_count": 13,
     "metadata": {},
     "output_type": "execute_result"
    }
   ],
   "source": [
    "fres = sum(residuals**2)\n",
    "fres"
   ]
  },
  {
   "cell_type": "markdown",
   "metadata": {},
   "source": [
    "$\\textbf{Нарисуем полученное решение}$"
   ]
  },
  {
   "cell_type": "code",
   "execution_count": 14,
   "metadata": {
    "collapsed": false
   },
   "outputs": [
    {
     "data": {
      "image/png": "[encoded data removed]",
      "text/plain": [
       "<matplotlib.figure.Figure at 0x117acfd68>"
      ]
     },
     "metadata": {},
     "output_type": "display_data"
    }
   ],
   "source": [
    "fig, ax = plt.subplots(figsize=(10,7))\n",
    "ax.scatter(xdata, ydata)\n",
    "ax.plot(xdata, y, 'r', lw=2)\n",
    "ax.plot(xdata, f(xdata, *beta_opt), 'g', lw=2)\n",
    "ax.set_xlim(0, 5)\n",
    "ax.set_xlabel(r\"$x$\", fontsize=18)\n",
    "ax.set_ylabel(r\"$f(x, \\beta)$\", fontsize=18)\n",
    "plt.show()"
   ]
  }
 ],
 "metadata": {
  "kernelspec": {
   "display_name": "Python 3",
   "language": "python",
   "name": "python3"
  },
  "language_info": {
   "codemirror_mode": {
    "name": "ipython",
    "version": 3
   },
   "file_extension": ".py",
   "mimetype": "text/x-python",
   "name": "python",
   "nbconvert_exporter": "python",
   "pygments_lexer": "ipython3",
   "version": "3.6.0"
  }
 },
 "nbformat": 4,
 "nbformat_minor": 2
}
