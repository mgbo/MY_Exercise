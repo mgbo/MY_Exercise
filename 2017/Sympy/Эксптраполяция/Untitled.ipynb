{
 "cells": [
  {
   "cell_type": "markdown",
   "metadata": {},
   "source": [
    "# Подгонка методом наименьших квадратов в scipy (парабола)"
   ]
  },
  {
   "cell_type": "markdown",
   "metadata": {},
   "source": [
    "lstsq(m,v) – приближенное решение системы линейных уравнений по методу наименьших квадратов.\n",
    "\n",
    "Например: пусть x,y – вектора длиной n > 3 (точек > 3).\n",
    "Задача: найти такие a, b, c, чтобы было y = ax2 + bx + c (аппроксимация параболой). Задача переопределена (n уравнений, 3 неизвестных) и точного решения не имеет."
   ]
  },
  {
   "cell_type": "code",
   "execution_count": null,
   "metadata": {
    "collapsed": true
   },
   "outputs": [],
   "source": []
  }
 ],
 "metadata": {
  "kernelspec": {
   "display_name": "Python 3",
   "language": "python",
   "name": "python3"
  },
  "language_info": {
   "codemirror_mode": {
    "name": "ipython",
    "version": 3
   },
   "file_extension": ".py",
   "mimetype": "text/x-python",
   "name": "python",
   "nbconvert_exporter": "python",
   "pygments_lexer": "ipython3",
   "version": "3.6.0"
  }
 },
 "nbformat": 4,
 "nbformat_minor": 2
}
