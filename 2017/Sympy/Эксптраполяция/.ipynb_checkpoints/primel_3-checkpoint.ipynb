{
 "cells": [
  {
   "cell_type": "markdown",
   "metadata": {},
   "source": [
    "# Еще один пример для scipy (произвольная функция)"
   ]
  },
  {
   "cell_type": "markdown",
   "metadata": {},
   "source": [
    "Пусть мы проверяем гипотезу, что наши точки ложатся на кривую вида $$f (x,b) = b0 + b1*exp(-b2*x**2)$$"
   ]
  },
  {
   "cell_type": "markdown",
   "metadata": {},
   "source": [
    "$\\textbf{Генерация тестовых данных}$\n",
    "\n",
    "Добавим шума в данные, сделанные по функции f(x,b) с коэффициентами b = (0.25, 0.75, 0.5)"
   ]
  },
  {
   "cell_type": "code",
   "execution_count": 1,
   "metadata": {
    "collapsed": true
   },
   "outputs": [],
   "source": [
    "from pylab import*"
   ]
  },
  {
   "cell_type": "code",
   "execution_count": 2,
   "metadata": {
    "collapsed": true
   },
   "outputs": [],
   "source": [
    "from scipy.optimize import*"
   ]
  },
  {
   "cell_type": "code",
   "execution_count": 3,
   "metadata": {
    "collapsed": true
   },
   "outputs": [],
   "source": [
    "from scipy.linalg import*"
   ]
  },
  {
   "cell_type": "code",
   "execution_count": 4,
   "metadata": {
    "collapsed": true
   },
   "outputs": [],
   "source": [
    "import numpy as np"
   ]
  },
  {
   "cell_type": "code",
   "execution_count": 5,
   "metadata": {
    "collapsed": true
   },
   "outputs": [],
   "source": [
    "def f(x,b0,b1,b2):\n",
    "    return b0+b1*np.exp(-b2*x**2)"
   ]
  },
  {
   "cell_type": "markdown",
   "metadata": {},
   "source": [
    "$\\textbf{зададим массив точек хi}$"
   ]
  },
  {
   "cell_type": "code",
   "execution_count": 6,
   "metadata": {
    "collapsed": true
   },
   "outputs": [],
   "source": [
    "xdata = np.linspace(0,5,50) "
   ]
  },
  {
   "cell_type": "code",
   "execution_count": 7,
   "metadata": {
    "collapsed": true
   },
   "outputs": [],
   "source": [
    "beta = (0.25, 0.75, 0.5)"
   ]
  },
  {
   "cell_type": "code",
   "execution_count": 8,
   "metadata": {
    "collapsed": false
   },
   "outputs": [
    {
     "data": {
      "text/plain": [
       "array([ 1.        ,  0.99610552,  0.98454301,  0.96566897,  0.94005726,\n",
       "        0.90847009,  0.8718204 ,  0.83112807,  0.7874731 ,  0.74194844,\n",
       "        0.69561564,  0.64946548,  0.6043856 ,  0.56113642,  0.52033584,\n",
       "        0.48245259,  0.44780767,  0.41658268,  0.38883359,  0.36450838,\n",
       "        0.34346692,  0.32550167,  0.31035778,  0.29775159,  0.28738699,\n",
       "        0.27896884,  0.27221363,  0.26685723,  0.26265991,  0.25940921,\n",
       "        0.25692076,  0.2550377 ,  0.25362901,  0.25258716,  0.25182531,\n",
       "        0.25127446,  0.25088063,  0.2506022 ,  0.25040754,  0.25027294,\n",
       "        0.2501809 ,  0.25011866,  0.25007703,  0.25004948,  0.25003146,\n",
       "        0.25001979,  0.25001232,  0.25000759,  0.25000463,  0.25000279])"
      ]
     },
     "execution_count": 8,
     "metadata": {},
     "output_type": "execute_result"
    }
   ],
   "source": [
    "y = f(xdata, *beta) # создаем теоретически правильные значения точек yi (без шума)\n",
    "y"
   ]
  },
  {
   "cell_type": "code",
   "execution_count": 10,
   "metadata": {
    "collapsed": true
   },
   "outputs": [],
   "source": [
    "ydata = y + 0.05*np.random.randn(len(xdata))"
   ]
  },
  {
   "cell_type": "markdown",
   "metadata": {},
   "source": [
    "$\\textbf{Решение}$\n",
    "\n",
    "Используем функцию для получения решения в виде коэффициентов функции f(x) для указанных xdata и ydata"
   ]
  },
  {
   "cell_type": "code",
   "execution_count": 11,
   "metadata": {
    "collapsed": false
   },
   "outputs": [
    {
     "data": {
      "text/plain": [
       "array([ 0.27610717,  0.72586903,  0.56616235])"
      ]
     },
     "execution_count": 11,
     "metadata": {},
     "output_type": "execute_result"
    }
   ],
   "source": [
    "beta_opt, beta_cov = curve_fit(f,xdata, ydata)\n",
    "beta_opt"
   ]
  },
  {
   "cell_type": "markdown",
   "metadata": {
    "collapsed": true
   },
   "source": [
    "Вычислим, насколько велико линейное отклонение"
   ]
  },
  {
   "cell_type": "code",
   "execution_count": 12,
   "metadata": {
    "collapsed": false
   },
   "outputs": [
    {
     "data": {
      "text/plain": [
       "0.00022221908087577402"
      ]
     },
     "execution_count": 12,
     "metadata": {},
     "output_type": "execute_result"
    }
   ],
   "source": [
    "lin_dev =  sum(beta_cov[0])\n",
    "lin_dev"
   ]
  },
  {
   "cell_type": "markdown",
   "metadata": {},
   "source": [
    "Вычислим, насколько велико квадратичное отклонение"
   ]
  },
  {
   "cell_type": "code",
   "execution_count": 13,
   "metadata": {
    "collapsed": false
   },
   "outputs": [
    {
     "data": {
      "text/plain": [
       "array([ 0.01285074,  0.05269052,  0.00839701,  0.00406395,  0.05780687,\n",
       "       -0.03714419, -0.06113006, -0.08068614, -0.02254473, -0.00422435,\n",
       "        0.00133812, -0.01110412, -0.03593879,  0.05769224,  0.04087443,\n",
       "        0.06699295,  0.04775458, -0.04304438, -0.04320502, -0.01330948,\n",
       "        0.05196809,  0.0702235 , -0.03345948, -0.05536527, -0.07757785,\n",
       "        0.04629439,  0.02636902, -0.06090134, -0.03678648, -0.02340891,\n",
       "       -0.04782842,  0.01335361,  0.04846768,  0.05734483,  0.06596899,\n",
       "       -0.09745016,  0.04215189,  0.05179121,  0.01544709, -0.07335526,\n",
       "        0.05307362, -0.00391006, -0.02513187,  0.03948142, -0.0752591 ,\n",
       "       -0.0030372 , -0.01261572, -0.00800222,  0.01019122,  0.04383263])"
      ]
     },
     "execution_count": 13,
     "metadata": {},
     "output_type": "execute_result"
    }
   ],
   "source": [
    "residuals = ydata - f(xdata,*beta_opt)\n",
    "residuals"
   ]
  },
  {
   "cell_type": "code",
   "execution_count": 14,
   "metadata": {
    "collapsed": false
   },
   "outputs": [
    {
     "data": {
      "text/plain": [
       "0.10686249051643645"
      ]
     },
     "execution_count": 14,
     "metadata": {},
     "output_type": "execute_result"
    }
   ],
   "source": [
    "fres = sum(residuals**2)\n",
    "fres"
   ]
  },
  {
   "cell_type": "markdown",
   "metadata": {},
   "source": [
    "$\\textbf{Нарисуем полученное решение}$"
   ]
  },
  {
   "cell_type": "code",
   "execution_count": 15,
   "metadata": {
    "collapsed": false
   },
   "outputs": [
    {
     "data": {
      "image/png": "[encoded data removed]",
      "text/plain": [
       "<matplotlib.figure.Figure at 0x11303de10>"
      ]
     },
     "metadata": {},
     "output_type": "display_data"
    }
   ],
   "source": [
    "fig, ax = plt.subplots(figsize=(10,7))\n",
    "ax.scatter(xdata, ydata)\n",
    "ax.plot(xdata, y, 'r', lw=2)\n",
    "ax.plot(xdata, f(xdata, *beta_opt), 'g', lw=2)\n",
    "ax.set_xlim(0, 5)\n",
    "ax.set_xlabel(r\"$x$\", fontsize=18)\n",
    "ax.set_ylabel(r\"$f(x, \\beta)$\", fontsize=18)\n",
    "plt.show()"
   ]
  }
 ],
 "metadata": {
  "kernelspec": {
   "display_name": "Python 3",
   "language": "python",
   "name": "python3"
  },
  "language_info": {
   "codemirror_mode": {
    "name": "ipython",
    "version": 3
   },
   "file_extension": ".py",
   "mimetype": "text/x-python",
   "name": "python",
   "nbconvert_exporter": "python",
   "pygments_lexer": "ipython3",
   "version": "3.6.0"
  }
 },
 "nbformat": 4,
 "nbformat_minor": 2
}
