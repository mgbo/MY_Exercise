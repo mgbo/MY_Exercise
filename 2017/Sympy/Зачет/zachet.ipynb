{
 "cells": [
  {
   "cell_type": "markdown",
   "metadata": {},
   "source": [
    "# Задачи по зачету"
   ]
  },
  {
   "cell_type": "markdown",
   "metadata": {},
   "source": [
    "# задача(1)"
   ]
  },
  {
   "cell_type": "markdown",
   "metadata": {},
   "source": [
    "Решить систему уравнение\n",
    "\n",
    "$$5x + 3y = 0$$\n",
    "$$3x + 5y +4z = 0$$\n",
    "$$4y^2 + 5z = 0$$"
   ]
  },
  {
   "cell_type": "code",
   "execution_count": 1,
   "metadata": {
    "collapsed": true
   },
   "outputs": [],
   "source": [
    "from sympy import*\n",
    "init_printing()"
   ]
  },
  {
   "cell_type": "code",
   "execution_count": 2,
   "metadata": {
    "collapsed": true
   },
   "outputs": [],
   "source": [
    "x,y,z = symbols('x y z',real=True)"
   ]
  },
  {
   "cell_type": "code",
   "execution_count": 3,
   "metadata": {
    "collapsed": true
   },
   "outputs": [],
   "source": [
    "eq1 = 5*x + 3*y"
   ]
  },
  {
   "cell_type": "code",
   "execution_count": 4,
   "metadata": {
    "collapsed": true
   },
   "outputs": [],
   "source": [
    "eq2 = 3*x + 5*y + 4*z"
   ]
  },
  {
   "cell_type": "code",
   "execution_count": 5,
   "metadata": {
    "collapsed": false
   },
   "outputs": [],
   "source": [
    "eq3 = 4*y**2 + 5*z"
   ]
  },
  {
   "cell_type": "code",
   "execution_count": 6,
   "metadata": {
    "collapsed": false
   },
   "outputs": [
    {
     "data": {
      "image/png": "[encoded data removed]",
      "text/latex": [
       "$$\\left [ \\left \\{ x : - \\frac{3}{5}, \\quad y : 1, \\quad z : - \\frac{4}{5}\\right \\}, \\quad \\left \\{ x : 0, \\quad y : 0, \\quad z : 0\\right \\}\\right ]$$"
      ],
      "text/plain": [
       "[{x: -3/5, y: 1, z: -4/5}, {x: 0, y: 0, z: 0}]"
      ]
     },
     "execution_count": 6,
     "metadata": {},
     "output_type": "execute_result"
    }
   ],
   "source": [
    "solve([eq1,eq2,eq3],[x,y,z],dict=True)"
   ]
  },
  {
   "cell_type": "markdown",
   "metadata": {},
   "source": [
    "# Задача(2)"
   ]
  },
  {
   "cell_type": "code",
   "execution_count": 7,
   "metadata": {
    "collapsed": true
   },
   "outputs": [],
   "source": [
    "from sympy import*\n",
    "init_printing()"
   ]
  },
  {
   "cell_type": "markdown",
   "metadata": {},
   "source": [
    "Найти дейвственние корни уравнеии\n",
    "$$x^3 - 3x^2 + x =3$$"
   ]
  },
  {
   "cell_type": "code",
   "execution_count": 8,
   "metadata": {
    "collapsed": false
   },
   "outputs": [
    {
     "data": {
      "image/png": "[encoded data removed]",
      "text/latex": [
       "$$\\left [ 3\\right ]$$"
      ],
      "text/plain": [
       "[3]"
      ]
     },
     "execution_count": 8,
     "metadata": {},
     "output_type": "execute_result"
    }
   ],
   "source": [
    "solve(x**3 -3*x**2 +x -3)"
   ]
  },
  {
   "cell_type": "markdown",
   "metadata": {},
   "source": [
    "# Задача(3)"
   ]
  },
  {
   "cell_type": "markdown",
   "metadata": {},
   "source": [
    "Решить уравнение \n",
    "$$x\\frac{dy}{dx} - 2y =2x^4$$"
   ]
  },
  {
   "cell_type": "code",
   "execution_count": 9,
   "metadata": {
    "collapsed": true
   },
   "outputs": [],
   "source": [
    "x = symbols('x')"
   ]
  },
  {
   "cell_type": "code",
   "execution_count": 10,
   "metadata": {
    "collapsed": true
   },
   "outputs": [],
   "source": [
    "y = Function('y')"
   ]
  },
  {
   "cell_type": "code",
   "execution_count": 11,
   "metadata": {
    "collapsed": false
   },
   "outputs": [
    {
     "data": {
      "image/png": "[encoded data removed]",
      "text/latex": [
       "$$- 2 x^{4} + x \\frac{d}{d x} y{\\left (x \\right )} - 2 y{\\left (x \\right )}$$"
      ],
      "text/plain": [
       "     4     d                \n",
       "- 2⋅x  + x⋅──(y(x)) - 2⋅y(x)\n",
       "           dx               "
      ]
     },
     "execution_count": 11,
     "metadata": {},
     "output_type": "execute_result"
    }
   ],
   "source": [
    "eq = x*diff(y(x),x) - 2*y(x) - 2*x**4\n",
    "eq"
   ]
  },
  {
   "cell_type": "code",
   "execution_count": 12,
   "metadata": {
    "collapsed": false
   },
   "outputs": [
    {
     "data": {
      "image/png": "[encoded data removed]",
      "text/latex": [
       "$$- 2 x^{4} + x \\frac{d}{d x} y{\\left (x \\right )} - 2 y{\\left (x \\right )} = 0$$"
      ],
      "text/plain": [
       "     4     d                    \n",
       "- 2⋅x  + x⋅──(y(x)) - 2⋅y(x) = 0\n",
       "           dx                   "
      ]
     },
     "execution_count": 12,
     "metadata": {},
     "output_type": "execute_result"
    }
   ],
   "source": [
    "eq_1=Eq(eq,0)\n",
    "eq_1"
   ]
  },
  {
   "cell_type": "code",
   "execution_count": 13,
   "metadata": {
    "collapsed": false
   },
   "outputs": [
    {
     "data": {
      "image/png": "[encoded data removed]",
      "text/latex": [
       "$$y{\\left (x \\right )} = x^{2} \\left(C_{1} + x^{2}\\right)$$"
      ],
      "text/plain": [
       "        2 ⎛      2⎞\n",
       "y(x) = x ⋅⎝C₁ + x ⎠"
      ]
     },
     "execution_count": 13,
     "metadata": {},
     "output_type": "execute_result"
    }
   ],
   "source": [
    "sol = dsolve(eq_1)\n",
    "sol"
   ]
  },
  {
   "cell_type": "markdown",
   "metadata": {},
   "source": [
    "# Задача(4)"
   ]
  },
  {
   "cell_type": "markdown",
   "metadata": {},
   "source": [
    "Найти решение ф-582\n",
    "$$\\frac{d^2y}{dx^2} - 2\\frac{dy}{dx} + y = 0 $$\n",
    "\n",
    "\n",
    "$$y(2)=1,y'(2)=-2$$"
   ]
  },
  {
   "cell_type": "code",
   "execution_count": 14,
   "metadata": {
    "collapsed": false
   },
   "outputs": [
    {
     "data": {
      "image/png": "[encoded data removed]",
      "text/latex": [
       "$$y{\\left (x \\right )} - 2 \\frac{d}{d x} y{\\left (x \\right )} + \\frac{d^{2}}{d x^{2}}  y{\\left (x \\right )}$$"
      ],
      "text/plain": [
       "                      2      \n",
       "         d           d       \n",
       "y(x) - 2⋅──(y(x)) + ───(y(x))\n",
       "         dx           2      \n",
       "                    dx       "
      ]
     },
     "execution_count": 14,
     "metadata": {},
     "output_type": "execute_result"
    }
   ],
   "source": [
    "fun = diff(y(x),x,x) - 2*diff(y(x),x) + y(x)\n",
    "fun"
   ]
  },
  {
   "cell_type": "code",
   "execution_count": 15,
   "metadata": {
    "collapsed": false
   },
   "outputs": [
    {
     "data": {
      "image/png": "[encoded data removed]",
      "text/latex": [
       "$$y{\\left (x \\right )} - 2 \\frac{d}{d x} y{\\left (x \\right )} + \\frac{d^{2}}{d x^{2}}  y{\\left (x \\right )} = 0$$"
      ],
      "text/plain": [
       "                      2          \n",
       "         d           d           \n",
       "y(x) - 2⋅──(y(x)) + ───(y(x)) = 0\n",
       "         dx           2          \n",
       "                    dx           "
      ]
     },
     "execution_count": 15,
     "metadata": {},
     "output_type": "execute_result"
    }
   ],
   "source": [
    "Efun = Eq(fun,0)\n",
    "Efun"
   ]
  },
  {
   "cell_type": "code",
   "execution_count": 16,
   "metadata": {
    "collapsed": false
   },
   "outputs": [
    {
     "data": {
      "image/png": "[encoded data removed]",
      "text/latex": [
       "$$y{\\left (x \\right )} = \\left(C_{1} + C_{2} x\\right) e^{x}$$"
      ],
      "text/plain": [
       "                    x\n",
       "y(x) = (C₁ + C₂⋅x)⋅ℯ "
      ]
     },
     "execution_count": 16,
     "metadata": {},
     "output_type": "execute_result"
    }
   ],
   "source": [
    "d_sol_1 = dsolve(Efun)\n",
    "d_sol_1"
   ]
  },
  {
   "cell_type": "code",
   "execution_count": 17,
   "metadata": {
    "collapsed": false
   },
   "outputs": [
    {
     "data": {
      "image/png": "[encoded data removed]",
      "text/latex": [
       "$$\\left \\{ y{\\left (2 \\right )} : 1\\right \\}$$"
      ],
      "text/plain": [
       "{y(2): 1}"
      ]
     },
     "execution_count": 17,
     "metadata": {},
     "output_type": "execute_result"
    }
   ],
   "source": [
    "ics = {y(2):1}\n",
    "ics"
   ]
  },
  {
   "cell_type": "code",
   "execution_count": 18,
   "metadata": {
    "collapsed": false
   },
   "outputs": [
    {
     "data": {
      "image/png": "[encoded data removed]",
      "text/latex": [
       "$$1 = \\left(C_{1} + 2 C_{2}\\right) e^{2}$$"
      ],
      "text/plain": [
       "                 2\n",
       "1 = (C₁ + 2⋅C₂)⋅ℯ "
      ]
     },
     "execution_count": 18,
     "metadata": {},
     "output_type": "execute_result"
    }
   ],
   "source": [
    "ics_1 = d_sol_1.subs(x,2).subs(ics)\n",
    "ics_1"
   ]
  },
  {
   "cell_type": "code",
   "execution_count": 19,
   "metadata": {
    "collapsed": false
   },
   "outputs": [
    {
     "data": {
      "image/png": "[encoded data removed]",
      "text/latex": [
       "$$- \\left(C_{1} + 2 C_{2}\\right) e^{2} + 1$$"
      ],
      "text/plain": [
       "               2    \n",
       "- (C₁ + 2⋅C₂)⋅ℯ  + 1"
      ]
     },
     "execution_count": 19,
     "metadata": {},
     "output_type": "execute_result"
    }
   ],
   "source": [
    "f_ics1 = 1 - ics_1.rhs\n",
    "f_ics1"
   ]
  },
  {
   "cell_type": "code",
   "execution_count": 20,
   "metadata": {
    "collapsed": false
   },
   "outputs": [
    {
     "data": {
      "image/png": "[encoded data removed]",
      "text/latex": [
       "$$\\left(C_{1} + C_{2} x\\right) e^{x}$$"
      ],
      "text/plain": [
       "             x\n",
       "(C₁ + C₂⋅x)⋅ℯ "
      ]
     },
     "execution_count": 20,
     "metadata": {},
     "output_type": "execute_result"
    }
   ],
   "source": [
    "d_sol = d_sol_1.rhs\n",
    "d_sol"
   ]
  },
  {
   "cell_type": "code",
   "execution_count": 21,
   "metadata": {
    "collapsed": false
   },
   "outputs": [
    {
     "data": {
      "image/png": "[encoded data removed]",
      "text/latex": [
       "$$C_{2} e^{x} + \\left(C_{1} + C_{2} x\\right) e^{x}$$"
      ],
      "text/plain": [
       "    x                x\n",
       "C₂⋅ℯ  + (C₁ + C₂⋅x)⋅ℯ "
      ]
     },
     "execution_count": 21,
     "metadata": {},
     "output_type": "execute_result"
    }
   ],
   "source": [
    "sol_dsol = diff(d_sol,x)\n",
    "sol_dsol"
   ]
  },
  {
   "cell_type": "code",
   "execution_count": 22,
   "metadata": {
    "collapsed": false
   },
   "outputs": [
    {
     "data": {
      "image/png": "[encoded data removed]",
      "text/latex": [
       "$$C_{1} e^{x} + C_{2} x e^{x} + C_{2} e^{x}$$"
      ],
      "text/plain": [
       "    x         x       x\n",
       "C₁⋅ℯ  + C₂⋅x⋅ℯ  + C₂⋅ℯ "
      ]
     },
     "execution_count": 22,
     "metadata": {},
     "output_type": "execute_result"
    }
   ],
   "source": [
    "sol_dsol1 = sol_dsol.expand()\n",
    "sol_dsol1"
   ]
  },
  {
   "cell_type": "code",
   "execution_count": 23,
   "metadata": {
    "collapsed": false
   },
   "outputs": [
    {
     "data": {
      "image/png": "[encoded data removed]",
      "text/latex": [
       "$$C_{1} e^{2} + 3 C_{2} e^{2}$$"
      ],
      "text/plain": [
       "    2         2\n",
       "C₁⋅ℯ  + 3⋅C₂⋅ℯ "
      ]
     },
     "execution_count": 23,
     "metadata": {},
     "output_type": "execute_result"
    }
   ],
   "source": [
    "ics_2 = sol_dsol1.subs(x,2)\n",
    "ics_2"
   ]
  },
  {
   "cell_type": "code",
   "execution_count": 24,
   "metadata": {
    "collapsed": false
   },
   "outputs": [
    {
     "data": {
      "image/png": "[encoded data removed]",
      "text/latex": [
       "$$C_{1} e^{2} + 3 C_{2} e^{2} + 2$$"
      ],
      "text/plain": [
       "    2         2    \n",
       "C₁⋅ℯ  + 3⋅C₂⋅ℯ  + 2"
      ]
     },
     "execution_count": 24,
     "metadata": {},
     "output_type": "execute_result"
    }
   ],
   "source": [
    "f_ics2 = ics_2 + 2\n",
    "f_ics2"
   ]
  },
  {
   "cell_type": "code",
   "execution_count": 25,
   "metadata": {
    "collapsed": false
   },
   "outputs": [
    {
     "data": {
      "image/png": "[encoded data removed]",
      "text/latex": [
       "$$\\left \\{ C_{1} : \\frac{7}{e^{2}}, \\quad C_{2} : - \\frac{3}{e^{2}}\\right \\}$$"
      ],
      "text/plain": [
       "⎧       -2          -2⎫\n",
       "⎨C₁: 7⋅ℯ  , C₂: -3⋅ℯ  ⎬\n",
       "⎩                     ⎭"
      ]
     },
     "execution_count": 25,
     "metadata": {},
     "output_type": "execute_result"
    }
   ],
   "source": [
    "C = solve([f_ics1,f_ics2])\n",
    "C"
   ]
  },
  {
   "cell_type": "code",
   "execution_count": 26,
   "metadata": {
    "collapsed": false
   },
   "outputs": [
    {
     "data": {
      "image/png": "[encoded data removed]",
      "text/latex": [
       "$$y{\\left (x \\right )} = \\left(- \\frac{3 x}{e^{2}} + \\frac{7}{e^{2}}\\right) e^{x}$$"
      ],
      "text/plain": [
       "       ⎛       -2      -2⎞  x\n",
       "y(x) = ⎝- 3⋅x⋅ℯ   + 7⋅ℯ  ⎠⋅ℯ "
      ]
     },
     "execution_count": 26,
     "metadata": {},
     "output_type": "execute_result"
    }
   ],
   "source": [
    "ans = d_sol_1.subs(C)\n",
    "ans"
   ]
  },
  {
   "cell_type": "markdown",
   "metadata": {},
   "source": [
    "# Задача(5) "
   ]
  },
  {
   "cell_type": "markdown",
   "metadata": {},
   "source": [
    "Найти решение ф-586\n",
    "$$\\frac{d^3y}{dx^3} - \\frac{dy}{dx} = 0 $$\n",
    "\n",
    "\n",
    "$$y(0)=3,y'(0)=-1,y''(0)=1$$"
   ]
  },
  {
   "cell_type": "code",
   "execution_count": 27,
   "metadata": {
    "collapsed": false
   },
   "outputs": [
    {
     "data": {
      "image/png": "[encoded data removed]",
      "text/latex": [
       "$$- \\frac{d}{d x} y{\\left (x \\right )} + \\frac{d^{3}}{d x^{3}}  y{\\left (x \\right )}$$"
      ],
      "text/plain": [
       "               3      \n",
       "  d           d       \n",
       "- ──(y(x)) + ───(y(x))\n",
       "  dx           3      \n",
       "             dx       "
      ]
     },
     "execution_count": 27,
     "metadata": {},
     "output_type": "execute_result"
    }
   ],
   "source": [
    "fun = diff(y(x),x,x,x) - diff(y(x),x)\n",
    "fun"
   ]
  },
  {
   "cell_type": "code",
   "execution_count": 28,
   "metadata": {
    "collapsed": false
   },
   "outputs": [
    {
     "data": {
      "image/png": "[encoded data removed]",
      "text/latex": [
       "$$y{\\left (x \\right )} = C_{1} + C_{2} e^{- x} + C_{3} e^{x}$$"
      ],
      "text/plain": [
       "                -x       x\n",
       "y(x) = C₁ + C₂⋅ℯ   + C₃⋅ℯ "
      ]
     },
     "execution_count": 28,
     "metadata": {},
     "output_type": "execute_result"
    }
   ],
   "source": [
    "d_sol = dsolve(fun)\n",
    "d_sol"
   ]
  },
  {
   "cell_type": "code",
   "execution_count": 29,
   "metadata": {
    "collapsed": true
   },
   "outputs": [],
   "source": [
    "ic_1 = {y(0):3}"
   ]
  },
  {
   "cell_type": "code",
   "execution_count": 30,
   "metadata": {
    "collapsed": false
   },
   "outputs": [
    {
     "data": {
      "image/png": "[encoded data removed]",
      "text/latex": [
       "$$3 = C_{1} + C_{2} + C_{3}$$"
      ],
      "text/plain": [
       "3 = C₁ + C₂ + C₃"
      ]
     },
     "execution_count": 30,
     "metadata": {},
     "output_type": "execute_result"
    }
   ],
   "source": [
    "ic_y = d_sol.subs(x,0).subs(ic_1)\n",
    "ic_y"
   ]
  },
  {
   "cell_type": "code",
   "execution_count": 31,
   "metadata": {
    "collapsed": false
   },
   "outputs": [
    {
     "data": {
      "image/png": "[encoded data removed]",
      "text/latex": [
       "$$- C_{2} e^{- x} + C_{3} e^{x}$$"
      ],
      "text/plain": [
       "      -x       x\n",
       "- C₂⋅ℯ   + C₃⋅ℯ "
      ]
     },
     "execution_count": 31,
     "metadata": {},
     "output_type": "execute_result"
    }
   ],
   "source": [
    "d_sol2 = diff(d_sol.rhs,x)\n",
    "d_sol2"
   ]
  },
  {
   "cell_type": "code",
   "execution_count": 32,
   "metadata": {
    "collapsed": false
   },
   "outputs": [
    {
     "data": {
      "image/png": "[encoded data removed]",
      "text/latex": [
       "$$-1 = - C_{2} + C_{3}$$"
      ],
      "text/plain": [
       "-1 = -C₂ + C₃"
      ]
     },
     "execution_count": 32,
     "metadata": {},
     "output_type": "execute_result"
    }
   ],
   "source": [
    "d_sol22 = Eq(-1,d_sol2.subs(x,0))\n",
    "d_sol22"
   ]
  },
  {
   "cell_type": "code",
   "execution_count": 33,
   "metadata": {
    "collapsed": false
   },
   "outputs": [
    {
     "data": {
      "image/png": "[encoded data removed]",
      "text/latex": [
       "$$C_{2} e^{- x} + C_{3} e^{x}$$"
      ],
      "text/plain": [
       "    -x       x\n",
       "C₂⋅ℯ   + C₃⋅ℯ "
      ]
     },
     "execution_count": 33,
     "metadata": {},
     "output_type": "execute_result"
    }
   ],
   "source": [
    "d_sol3 = diff(d_sol2,x)\n",
    "d_sol3"
   ]
  },
  {
   "cell_type": "code",
   "execution_count": 34,
   "metadata": {
    "collapsed": false
   },
   "outputs": [
    {
     "data": {
      "image/png": "[encoded data removed]",
      "text/latex": [
       "$$1 = C_{2} + C_{3}$$"
      ],
      "text/plain": [
       "1 = C₂ + C₃"
      ]
     },
     "execution_count": 34,
     "metadata": {},
     "output_type": "execute_result"
    }
   ],
   "source": [
    "d_sol33 = Eq(1,d_sol3.subs(x,0))\n",
    "d_sol33"
   ]
  },
  {
   "cell_type": "code",
   "execution_count": 35,
   "metadata": {
    "collapsed": false
   },
   "outputs": [
    {
     "data": {
      "image/png": "[encoded data removed]",
      "text/latex": [
       "$$\\left \\{ C_{1} : 2, \\quad C_{2} : 1, \\quad C_{3} : 0\\right \\}$$"
      ],
      "text/plain": [
       "{C₁: 2, C₂: 1, C₃: 0}"
      ]
     },
     "execution_count": 35,
     "metadata": {},
     "output_type": "execute_result"
    }
   ],
   "source": [
    "val_C = solve([ic_y,d_sol22,d_sol33])\n",
    "val_C"
   ]
  },
  {
   "cell_type": "code",
   "execution_count": 36,
   "metadata": {
    "collapsed": false
   },
   "outputs": [
    {
     "data": {
      "image/png": "[encoded data removed]",
      "text/latex": [
       "$$y{\\left (x \\right )} = 2 + e^{- x}$$"
      ],
      "text/plain": [
       "            -x\n",
       "y(x) = 2 + ℯ  "
      ]
     },
     "execution_count": 36,
     "metadata": {},
     "output_type": "execute_result"
    }
   ],
   "source": [
    "final_ans = d_sol.subs(val_C)\n",
    "final_ans"
   ]
  },
  {
   "cell_type": "markdown",
   "metadata": {},
   "source": [
    "# Задача(6)"
   ]
  },
  {
   "cell_type": "markdown",
   "metadata": {
    "collapsed": true
   },
   "source": [
    "Найти решение ф-583\n",
    "$$\\frac{d^2y}{dx^2} - y = 4e^x $$\n",
    "\n",
    "\n",
    "$$y(0)=4y'(0)=-3$$"
   ]
  },
  {
   "cell_type": "code",
   "execution_count": 37,
   "metadata": {
    "collapsed": false
   },
   "outputs": [
    {
     "data": {
      "image/png": "[encoded data removed]",
      "text/latex": [
       "$$- y{\\left (x \\right )} - 4 e^{x} + \\frac{d^{2}}{d x^{2}}  y{\\left (x \\right )}$$"
      ],
      "text/plain": [
       "                 2      \n",
       "           x    d       \n",
       "-y(x) - 4⋅ℯ  + ───(y(x))\n",
       "                 2      \n",
       "               dx       "
      ]
     },
     "execution_count": 37,
     "metadata": {},
     "output_type": "execute_result"
    }
   ],
   "source": [
    "eq = diff(y(x),x,x) - y(x) - 4*exp(x)\n",
    "eq"
   ]
  },
  {
   "cell_type": "code",
   "execution_count": 38,
   "metadata": {
    "collapsed": false
   },
   "outputs": [
    {
     "data": {
      "image/png": "[encoded data removed]",
      "text/latex": [
       "$$y{\\left (x \\right )} = C_{2} e^{- x} + \\left(C_{1} + 2 x\\right) e^{x}$$"
      ],
      "text/plain": [
       "           -x               x\n",
       "y(x) = C₂⋅ℯ   + (C₁ + 2⋅x)⋅ℯ "
      ]
     },
     "execution_count": 38,
     "metadata": {},
     "output_type": "execute_result"
    }
   ],
   "source": [
    "sol_eq = dsolve(eq)\n",
    "sol_eq"
   ]
  },
  {
   "cell_type": "code",
   "execution_count": 39,
   "metadata": {
    "collapsed": true
   },
   "outputs": [],
   "source": [
    "ic = {y(0):4}"
   ]
  },
  {
   "cell_type": "code",
   "execution_count": 40,
   "metadata": {
    "collapsed": false
   },
   "outputs": [
    {
     "data": {
      "image/png": "[encoded data removed]",
      "text/latex": [
       "$$4 = C_{1} + C_{2}$$"
      ],
      "text/plain": [
       "4 = C₁ + C₂"
      ]
     },
     "execution_count": 40,
     "metadata": {},
     "output_type": "execute_result"
    }
   ],
   "source": [
    "eq_1 = sol_eq.subs(x,0).subs(ic)\n",
    "eq_1"
   ]
  },
  {
   "cell_type": "code",
   "execution_count": 41,
   "metadata": {
    "collapsed": false
   },
   "outputs": [
    {
     "data": {
      "image/png": "[encoded data removed]",
      "text/latex": [
       "$$- C_{2} e^{- x} + \\left(C_{1} + 2 x\\right) e^{x} + 2 e^{x}$$"
      ],
      "text/plain": [
       "      -x               x      x\n",
       "- C₂⋅ℯ   + (C₁ + 2⋅x)⋅ℯ  + 2⋅ℯ "
      ]
     },
     "execution_count": 41,
     "metadata": {},
     "output_type": "execute_result"
    }
   ],
   "source": [
    "dif_sol_eq = diff(sol_eq.rhs,x)\n",
    "dif_sol_eq"
   ]
  },
  {
   "cell_type": "code",
   "execution_count": 42,
   "metadata": {
    "collapsed": false
   },
   "outputs": [
    {
     "data": {
      "image/png": "[encoded data removed]",
      "text/latex": [
       "$$-3 = C_{1} - C_{2} + 2$$"
      ],
      "text/plain": [
       "-3 = C₁ - C₂ + 2"
      ]
     },
     "execution_count": 42,
     "metadata": {},
     "output_type": "execute_result"
    }
   ],
   "source": [
    "eq_2 = Eq(-3,dif_sol_eq.subs(x,0))\n",
    "eq_2"
   ]
  },
  {
   "cell_type": "code",
   "execution_count": 43,
   "metadata": {
    "collapsed": false
   },
   "outputs": [
    {
     "data": {
      "image/png": "[encoded data removed]",
      "text/latex": [
       "$$\\left \\{ C_{1} : - \\frac{1}{2}, \\quad C_{2} : \\frac{9}{2}\\right \\}$$"
      ],
      "text/plain": [
       "{C₁: -1/2, C₂: 9/2}"
      ]
     },
     "execution_count": 43,
     "metadata": {},
     "output_type": "execute_result"
    }
   ],
   "source": [
    "val_C = solve([eq_1,eq_2])\n",
    "val_C"
   ]
  },
  {
   "cell_type": "code",
   "execution_count": 44,
   "metadata": {
    "collapsed": false
   },
   "outputs": [
    {
     "data": {
      "image/png": "[encoded data removed]",
      "text/latex": [
       "$$y{\\left (x \\right )} = \\left(2 x - \\frac{1}{2}\\right) e^{x} + \\frac{9}{2} e^{- x}$$"
      ],
      "text/plain": [
       "                           -x\n",
       "                    x   9⋅ℯ  \n",
       "y(x) = (2⋅x - 1/2)⋅ℯ  + ─────\n",
       "                          2  "
      ]
     },
     "execution_count": 44,
     "metadata": {},
     "output_type": "execute_result"
    }
   ],
   "source": [
    "final_ans = sol_eq.subs(val_C)\n",
    "final_ans"
   ]
  },
  {
   "cell_type": "code",
   "execution_count": null,
   "metadata": {
    "collapsed": true
   },
   "outputs": [],
   "source": []
  }
 ],
 "metadata": {
  "kernelspec": {
   "display_name": "Python 3",
   "language": "python",
   "name": "python3"
  },
  "language_info": {
   "codemirror_mode": {
    "name": "ipython",
    "version": 3
   },
   "file_extension": ".py",
   "mimetype": "text/x-python",
   "name": "python",
   "nbconvert_exporter": "python",
   "pygments_lexer": "ipython3",
   "version": "3.6.0"
  }
 },
 "nbformat": 4,
 "nbformat_minor": 2
}
